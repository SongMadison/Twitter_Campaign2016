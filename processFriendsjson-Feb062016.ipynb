{
 "cells": [
  {
   "cell_type": "code",
   "execution_count": 6,
   "metadata": {
    "collapsed": false
   },
   "outputs": [],
   "source": [
    "import json\n",
    "import pandas as pd\n",
    "import csv\n",
    "\n",
    "def extractIDSN(filepath):\n",
    "    \n",
    "    id_str = []\n",
    "    followers_count = []\n",
    "    screen_name = []\n",
    "    description = []\n",
    "    #i = 0\n",
    "    with open(filepath) as f1:\n",
    "        for line in f1:\n",
    "            try:\n",
    "                line = json.loads(line)\n",
    "            except:\n",
    "                continue\n",
    "            id_str.extend(line['id_str'])\n",
    "            screen_name.extend(line['screen_name'])\n",
    "            followers_count.extend(line['followers_count'])\n",
    "            description.extend(line['description'])\n",
    "    #        i +=1\n",
    "    #        if i>10:\n",
    "    #            break\n",
    "    #        print(i)\n",
    "    data = {'id_str' : pd.Series(id_str),\n",
    "            'screen_name' : pd.Series(screen_name),\n",
    "            'description' : pd.Series(description),\n",
    "            'followers_count' : pd.Series(followers_count),\n",
    "           }\n",
    "    df =pd.DataFrame(data)\n",
    "    \n",
    "    return df\n",
    "\n",
    "\n",
    "\n",
    "\n"
   ]
  },
  {
   "cell_type": "code",
   "execution_count": 20,
   "metadata": {
    "collapsed": false
   },
   "outputs": [
    {
     "name": "stdout",
     "output_type": "stream",
     "text": [
      "16\n",
      "42\n",
      "42\n"
     ]
    }
   ],
   "source": [
    "# extract the given column info, produce a dataframe\n",
    "#Note\n",
    "##some elements of the downloaded json items are not valid, use try except to get rid of them\n",
    "\n",
    "import json\n",
    "import pandas as pd #toy experiment\n",
    "import csv\n",
    "   \n",
    "\n",
    "def json2dataframe(json_file, cols):\n",
    "    data = {}\n",
    "    for c in cols:\n",
    "        data[c] = []\n",
    "    with open (json_file) as f1:\n",
    "        for line in f1:\n",
    "            try:\n",
    "                line = json.loads(line)\n",
    "            except:\n",
    "                continue\n",
    "                \n",
    "            for c in cols:\n",
    "                if line[c] =={} or c not in line:\n",
    "                    data[c].extend([''])\n",
    "                else:\n",
    "                    data[c].extend(line[c])\n",
    "        data_df = pd.DataFrame.from_dict(data)  \n",
    "        return data_df\n",
    "def json2dataframe2(json_file):\n",
    "    json_list = []\n",
    "    with open (json_file) as f1:\n",
    "        for line in f1:\n",
    "            try:\n",
    "                line = json.loads(line)\n",
    "                json_list.append(line)\n",
    "            except:\n",
    "                continue\n",
    "    data_df = pd.DataFrame(json_list)           \n",
    "        \n",
    "    return data_df    \n",
    "\n",
    "\n",
    "\n",
    "\n",
    "#example on small json file\n",
    "\n",
    "path =\"../data/followers_info/followers10.json\"\n",
    "toys = [json.loads(line) for line in open(path)]  # list, in the memory , works for small file\n",
    "#print(toys[1])\n",
    "\n",
    "cols = ['id_str', 'screen_name', 'name','created_at', 'description', \n",
    "        'location', 'time_zone',  'favourites_count','followers_count',  'friends_count',\n",
    "        'lang', 'listed_count' ,'statuses_count', 'geo_enabled', 'protected' ,'verified'] \n",
    "\n",
    "toys_df = json2dataframe(path, cols)\n",
    "#print(toys_df.columns)\n",
    "print(len(toys_df.columns))\n",
    "\n",
    "toys_df2 = pd.DataFrame(toys)\n",
    "#print(toys_df2.columns)\n",
    "print(len(toys_df2.columns))\n",
    "\n",
    "toys_df3 = json2dataframe2(path)\n",
    "#print(toys_df3.columns)\n",
    "print(len(toys_df3.columns))"
   ]
  },
  {
   "cell_type": "code",
   "execution_count": null,
   "metadata": {
    "collapsed": true
   },
   "outputs": [],
   "source": []
  },
  {
   "cell_type": "code",
   "execution_count": 26,
   "metadata": {
    "collapsed": false
   },
   "outputs": [
    {
     "name": "stdout",
     "output_type": "stream",
     "text": [
      "../data/followers_Network/originalData/friends_random100K_info.jsonis done!\n",
      "../data/followers_Network/originalData/friends_non-random100K_info.jsonis done!\n"
     ]
    }
   ],
   "source": [
    "cols = ['id_str', 'screen_name', 'name','created_at', 'description', \n",
    "        'location', 'time_zone',  'favourites_count','followers_count',  'friends_count',\n",
    "        'lang', 'listed_count' ,'statuses_count', 'geo_enabled', 'protected' ,'verified'] \n",
    "\n",
    "\n",
    "filepath1 = \"../data/followers_Network/originalData/friends_random100K_info.json\"\n",
    "friends_ID_SN_random = json2dataframe(filepath1, cols)\n",
    "print(filepath1 + \"is done!\")\n",
    "\n",
    "filepath2 = \"../data/followers_Network/originalData/friends_non-random100K_info.json\"\n",
    "friends_ID_SN_nonrandom = json2dataframe(filepath2, cols)\n",
    "print(filepath2 + \"is done!\")\n",
    "\n",
    "friends_ID_SN_random.to_csv('../data/followers_Network/friends_random_full_info.csv')\n",
    "friends_ID_SN_nonrandom.to_csv('../data/followers_Network/friends_nonrandom_full_info.csv')"
   ]
  },
  {
   "cell_type": "code",
   "execution_count": 25,
   "metadata": {
    "collapsed": false
   },
   "outputs": [
    {
     "name": "stdout",
     "output_type": "stream",
     "text": [
      "../data/followers_Network/originalData/friends_random100K_info.jsonis done!\n",
      "../data/followers_Network/originalData/friends_non-random100K_info.jsonis done!\n"
     ]
    }
   ],
   "source": [
    "\n",
    "\n",
    "filepath1 = \"../data/followers_Network/originalData/friends_random100K_info.json\"\n",
    "friends_ID_SN_random = json2dataframe2(filepath1)\n",
    "print(filepath1 + \"is done!\")\n",
    "\n",
    "filepath2 = \"../data/followers_Network/originalData/friends_non-random100K_info.json\"\n",
    "friends_ID_SN_nonrandom = json2dataframe2(filepath2)\n",
    "print(filepath2 + \"is done!\")\n",
    "\n",
    "#friends_ID_SN_random.to_csv('../data/followers_Network/friends_random_full_info.csv')\n",
    "#friends_ID_SN_nonrandom.to_csv('../data/followers_Network/friends_nonrandom_full_info.csv')"
   ]
  }
 ],
 "metadata": {
  "anaconda-cloud": {},
  "kernelspec": {
   "display_name": "Python [default]",
   "language": "python",
   "name": "python3"
  },
  "language_info": {
   "codemirror_mode": {
    "name": "ipython",
    "version": 3
   },
   "file_extension": ".py",
   "mimetype": "text/x-python",
   "name": "python",
   "nbconvert_exporter": "python",
   "pygments_lexer": "ipython3",
   "version": "3.5.2"
  }
 },
 "nbformat": 4,
 "nbformat_minor": 1
}
