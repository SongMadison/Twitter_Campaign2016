{
 "cells": [
  {
   "cell_type": "code",
   "execution_count": 154,
   "metadata": {
    "collapsed": false
   },
   "outputs": [],
   "source": [
    "## read in the adjlist, followers and its list of friends\n",
    "\n",
    "def cleanData(input_file):\n",
    "\n",
    "    f = open(input_file, \"r\")\n",
    "    adjlist = []\n",
    "\n",
    "    followers_SN = []\n",
    "    friends_ID_count = {}\n",
    "    for line in f:\n",
    "        a = line.split(',')\n",
    "        followers_SN.append(a[0])\n",
    "        adjlist.append(a)\n",
    "\n",
    "    import csv\n",
    "    followers_IDs = {}\n",
    "    for sn in followers_SN:\n",
    "        followers_IDs[sn] ='1'    \n",
    "    with open('../data/followers_Network/id_counts.csv', 'r') as csvfile:\n",
    "        reader = csv.DictReader(csvfile)\n",
    "        for row in reader:\n",
    "            sn = row['screen_name']; id_str = row['id_str']\n",
    "            if sn in followers_IDs:\n",
    "                followers_IDs[sn] = id_str\n",
    "\n",
    "    for i in range( len(adjlist) ):\n",
    "        adjlist[i][0] = followers_IDs[adjlist[i][0]]  # substitute screen name with id_str\n",
    "    newAdjlist = []\n",
    "    for i in range(len(adjlist)):\n",
    "        if len(adjlist[i]) >=3: #removed those having 0/1 friends, did not download friends list sucessfullly,\n",
    "            newAdjlist.append(adjlist[i])\n",
    "    \n",
    "    return newAdjlist   \n",
    " \n",
    "    "
   ]
  },
  {
   "cell_type": "code",
   "execution_count": 155,
   "metadata": {
    "collapsed": false
   },
   "outputs": [],
   "source": [
    "# random vs non-random\n",
    "adjlist = cleanData(\"../data/followers_Network/random100K.txt\")\n",
    "adjlist1 = cleanData(\"../data/followers_Network/non-random100K.txt\")\n"
   ]
  },
  {
   "cell_type": "code",
   "execution_count": null,
   "metadata": {
    "collapsed": false
   },
   "outputs": [],
   "source": []
  },
  {
   "cell_type": "code",
   "execution_count": 160,
   "metadata": {
    "collapsed": false
   },
   "outputs": [],
   "source": [
    "class createBip(object):\n",
    "    \n",
    "    def __init__(self, adjlist):\n",
    "        \"\"\"\n",
    "        adjlist type: list[list] first is follower_id, the rest are the friendsID\n",
    "        rtype : None\n",
    "        \"\"\"\n",
    "        self.adjlist = adjlist\n",
    "        self.edgelist = []\n",
    "        self.newAdjlist = []\n",
    "    \n",
    "    def calculateFriendsCount(self, threshold):\n",
    "        friendsCount = {}\n",
    "        for line in self.adjlist:\n",
    "            for id_str in line[1:]:\n",
    "                if id_str in friendsCount.keys():\n",
    "                    friendsCount[id_str] = friendsCount[id_str] +1\n",
    "                else:\n",
    "                    friendsCount[id_str] = 1\n",
    "        friendsCount_threshold = {}           \n",
    "        for key in friendsCount.keys():\n",
    "            if friendsCount[key] >= threshold:\n",
    "                friendsCount_threshold[key] = friendsCount[key]\n",
    "        #for key in friendsCount.keys(): \n",
    "        #    if friendsCount[key] < threshold:\n",
    "        #        del friendsCount[key]  # size changed during the iteration\n",
    "        return friendsCount_threshold        \n",
    "                \n",
    "    def createEdgelist(self, threshold):\n",
    "        friendsCount = self.calculateFriendsCount(threshold)\n",
    "        #newAdjlist = []\n",
    "        for line in self.adjlist:\n",
    "            a = []\n",
    "            a.append(line[0])\n",
    "            for id_str in line[1:]:\n",
    "                if id_str in friendsCount.keys():\n",
    "                    a.append(id_str)\n",
    "                    self.edgelist.append( (line[0],id_str) )\n",
    "            self.newAdjlist.append(a) \n",
    "        \n",
    "                    \n",
    "\n"
   ]
  },
  {
   "cell_type": "code",
   "execution_count": 162,
   "metadata": {
    "collapsed": false
   },
   "outputs": [],
   "source": [
    "import csv\n",
    "BipGraph = createBip(adjlist)\n",
    "#count =BipGraph.calculateFriendsCount(5)\n",
    "BipGraph.createEdgelist(threshold = 5)\n",
    "\n",
    "with open('../data/followers_Network/edgelist-random100K.csv','w') as out:\n",
    "    csv_out=csv.writer(out)\n",
    "    csv_out.writerow(['follower_id_str','friends_id_str'])\n",
    "    for row in BipGraph.edgelist:\n",
    "        csv_out.writerow(row)"
   ]
  },
  {
   "cell_type": "code",
   "execution_count": 163,
   "metadata": {
    "collapsed": false
   },
   "outputs": [],
   "source": [
    "import csv\n",
    "#non-random graph\n",
    "\n",
    "BipGraph1 = createBip(adjlist1)\n",
    "BipGraph1.createEdgelist(threshold = 5)\n",
    "\n",
    "with open('../data/followers_Network/edgelist-non-random100K.csv','w') as out:\n",
    "    csv_out=csv.writer(out)\n",
    "    csv_out.writerow(['follower_id_str','friends_id_str'])\n",
    "    for row in BipGraph1.edgelist:\n",
    "        csv_out.writerow(row)"
   ]
  },
  {
   "cell_type": "code",
   "execution_count": 164,
   "metadata": {
    "collapsed": false
   },
   "outputs": [
    {
     "name": "stdout",
     "output_type": "stream",
     "text": [
      "214822 374005\n"
     ]
    }
   ],
   "source": [
    "count =BipGraph.calculateFriendsCount(5)\n",
    "count1 =BipGraph1.calculateFriendsCount(5)\n",
    "print(len(count), len(count1))\n",
    "#214822 374005\n"
   ]
  },
  {
   "cell_type": "code",
   "execution_count": 180,
   "metadata": {
    "collapsed": false
   },
   "outputs": [
    {
     "data": {
      "text/plain": [
       "23866"
      ]
     },
     "execution_count": 180,
     "metadata": {},
     "output_type": "execute_result"
    }
   ],
   "source": [
    "length = [len(x) for x in adjlist]\n",
    "table_length = {}\n",
    "for x in length:\n",
    "    if x in table_length:\n",
    "        table_length[x] += 1\n",
    "    else:\n",
    "        table_length[x] = 1\n",
    "        \n",
    "table_length        # not following #54450 contailing one friends, are they NA?\n",
    "\n",
    "ones = []\n",
    "for x in adjlist1: #adjlist\n",
    "    if len(x) ==2:\n",
    "        ones.append(x)\n",
    "ones #most are NA's\n",
    "len(ones)       "
   ]
  },
  {
   "cell_type": "code",
   "execution_count": 166,
   "metadata": {
    "collapsed": false
   },
   "outputs": [],
   "source": [
    "import csv\n",
    "#random graph\n",
    "with open('../data/followers_Network/friendsIDs-random100K.csv','w') as out:\n",
    "    csv_out=csv.writer(out)\n",
    "    csv_out.writerow(['friends_id_str', 'followerCount'])\n",
    "    i = 0\n",
    "    for key in count.keys():\n",
    "        csv_out.writerow((i, key,count[key]))\n",
    "        i += 1\n",
    "        \n",
    "with open('../data/followers_Network/friendsIDs-non-random100K.csv','w') as out:\n",
    "    csv_out=csv.writer(out)\n",
    "    csv_out.writerow(['friends_id_str', 'followerCount'])\n",
    "    i = 0\n",
    "    for key in count1.keys():\n",
    "        csv_out.writerow((i, key,count1[key]))   \n",
    "        i += 1\n",
    "        "
   ]
  },
  {
   "cell_type": "code",
   "execution_count": null,
   "metadata": {
    "collapsed": true
   },
   "outputs": [],
   "source": [
    "followers"
   ]
  }
 ],
 "metadata": {
  "anaconda-cloud": {},
  "kernelspec": {
   "display_name": "Python [default]",
   "language": "python",
   "name": "python3"
  },
  "language_info": {
   "codemirror_mode": {
    "name": "ipython",
    "version": 3
   },
   "file_extension": ".py",
   "mimetype": "text/x-python",
   "name": "python",
   "nbconvert_exporter": "python",
   "pygments_lexer": "ipython3",
   "version": "3.5.2"
  }
 },
 "nbformat": 4,
 "nbformat_minor": 1
}
