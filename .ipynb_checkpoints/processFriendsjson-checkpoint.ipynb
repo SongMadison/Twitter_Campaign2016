{
 "cells": [
  {
   "cell_type": "code",
   "execution_count": 6,
   "metadata": {
    "collapsed": false
   },
   "outputs": [],
   "source": [
    "import json\n",
    "import pandas as pd\n",
    "import csv\n",
    "\n",
    "def extractIDSN(filepath):\n",
    "    id_str = []\n",
    "    followers_count = []\n",
    "    screen_name = []\n",
    "    #i = 0\n",
    "    with open(filepath) as f1:\n",
    "        for line in f1:\n",
    "            try:\n",
    "                line = json.loads(line)\n",
    "            except:\n",
    "                continue\n",
    "            id_str.extend(line['id_str'])\n",
    "            followers_count.extend(line['followers_count'])\n",
    "            screen_name.extend(line['screen_name'])\n",
    "    #        i +=1\n",
    "    #        if i>10:\n",
    "    #            break\n",
    "    #        print(i)\n",
    "    data = {'id_str' : pd.Series(id_str),\n",
    "           'followers_count' : pd.Series(followers_count),\n",
    "            'screen_name' : pd.Series(screen_name)\n",
    "           }\n",
    "    df =pd.DataFrame(data)\n",
    "    \n",
    "    return df\n",
    "\n",
    "\n",
    "\n",
    "\n",
    "#Note\n",
    "##some elements of the downloaded json items are not valid, use try except to get rid of them"
   ]
  },
  {
   "cell_type": "code",
   "execution_count": null,
   "metadata": {
    "collapsed": true
   },
   "outputs": [],
   "source": []
  },
  {
   "cell_type": "code",
   "execution_count": 7,
   "metadata": {
    "collapsed": false
   },
   "outputs": [
    {
     "ename": "FileNotFoundError",
     "evalue": "[Errno 2] No such file or directory: '../data/followers_Network/friends-random100K_info.json'",
     "output_type": "error",
     "traceback": [
      "\u001b[0;31m---------------------------------------------------------------------------\u001b[0m",
      "\u001b[0;31mFileNotFoundError\u001b[0m                         Traceback (most recent call last)",
      "\u001b[0;32m<ipython-input-7-df65c76b3b40>\u001b[0m in \u001b[0;36m<module>\u001b[0;34m()\u001b[0m\n\u001b[1;32m      1\u001b[0m \u001b[0mfilepath1\u001b[0m \u001b[0;34m=\u001b[0m \u001b[0;34m\"../data/followers_Network/friends-random100K_info.json\"\u001b[0m\u001b[0;34m\u001b[0m\u001b[0m\n\u001b[0;32m----> 2\u001b[0;31m \u001b[0mfriends_ID_SN_random\u001b[0m \u001b[0;34m=\u001b[0m \u001b[0mextractIDSN\u001b[0m\u001b[0;34m(\u001b[0m\u001b[0mfilepath1\u001b[0m\u001b[0;34m)\u001b[0m\u001b[0;34m\u001b[0m\u001b[0m\n\u001b[0m\u001b[1;32m      3\u001b[0m \u001b[0;34m\u001b[0m\u001b[0m\n\u001b[1;32m      4\u001b[0m \u001b[0mfilepath2\u001b[0m \u001b[0;34m=\u001b[0m \u001b[0;34m\"../data/followers_Network/friends-non-random100K_info.json\"\u001b[0m\u001b[0;34m\u001b[0m\u001b[0m\n\u001b[1;32m      5\u001b[0m \u001b[0mfriends_ID_SN_nonrandom\u001b[0m \u001b[0;34m=\u001b[0m \u001b[0mextractIDSN\u001b[0m\u001b[0;34m(\u001b[0m\u001b[0mfilepath2\u001b[0m\u001b[0;34m)\u001b[0m\u001b[0;34m\u001b[0m\u001b[0m\n",
      "\u001b[0;32m<ipython-input-6-3bffe90fd3f2>\u001b[0m in \u001b[0;36mextractIDSN\u001b[0;34m(filepath)\u001b[0m\n\u001b[1;32m      8\u001b[0m     \u001b[0mscreen_name\u001b[0m \u001b[0;34m=\u001b[0m \u001b[0;34m[\u001b[0m\u001b[0;34m]\u001b[0m\u001b[0;34m\u001b[0m\u001b[0m\n\u001b[1;32m      9\u001b[0m     \u001b[0;31m#i = 0\u001b[0m\u001b[0;34m\u001b[0m\u001b[0;34m\u001b[0m\u001b[0m\n\u001b[0;32m---> 10\u001b[0;31m     \u001b[0;32mwith\u001b[0m \u001b[0mopen\u001b[0m\u001b[0;34m(\u001b[0m\u001b[0mfilepath\u001b[0m\u001b[0;34m)\u001b[0m \u001b[0;32mas\u001b[0m \u001b[0mf1\u001b[0m\u001b[0;34m:\u001b[0m\u001b[0;34m\u001b[0m\u001b[0m\n\u001b[0m\u001b[1;32m     11\u001b[0m         \u001b[0;32mfor\u001b[0m \u001b[0mline\u001b[0m \u001b[0;32min\u001b[0m \u001b[0mf1\u001b[0m\u001b[0;34m:\u001b[0m\u001b[0;34m\u001b[0m\u001b[0m\n\u001b[1;32m     12\u001b[0m             \u001b[0;32mtry\u001b[0m\u001b[0;34m:\u001b[0m\u001b[0;34m\u001b[0m\u001b[0m\n",
      "\u001b[0;31mFileNotFoundError\u001b[0m: [Errno 2] No such file or directory: '../data/followers_Network/friends-random100K_info.json'"
     ]
    }
   ],
   "source": [
    "filepath1 = \"/u/s/o/songwang/Stat/Twitter_Campaign2016/data/followers_Network/friends-random100K_info.json\"\n",
    "friends_ID_SN_random = extractIDSN(filepath1)\n",
    "\n",
    "filepath2 = \"../data/followers_Network/friends-non-random100K_info.json\"\n",
    "friends_ID_SN_nonrandom = extractIDSN(filepath2)\n",
    "\n",
    "\n",
    "friends_ID_SN_random.to_csv('../data/followers_Network/friends_ID_SN_random.csv')\n",
    "friends_ID_SN_nonrandom.to_csv('../data/followers_Network/friends_ID_SN_nonrandom.csv')"
   ]
  },
  {
   "cell_type": "code",
   "execution_count": 33,
   "metadata": {
    "collapsed": false
   },
   "outputs": [
    {
     "name": "stdout",
     "output_type": "stream",
     "text": [
      "1\n",
      "2\n",
      "3\n",
      "4\n",
      "6\n",
      "7\n",
      "8\n",
      "9\n",
      "11\n",
      "12\n",
      "13\n",
      "14\n",
      "16\n",
      "17\n",
      "18\n",
      "19\n"
     ]
    },
    {
     "data": {
      "text/plain": [
       "0"
      ]
     },
     "execution_count": 33,
     "metadata": {},
     "output_type": "execute_result"
    }
   ],
   "source": [
    "for i in range(20):\n",
    "    if i % 5 ==0:\n",
    "        continue\n",
    "    print (i)  \n",
    "5 % 5   "
   ]
  }
 ],
 "metadata": {
  "anaconda-cloud": {},
  "kernelspec": {
   "display_name": "Python [default]",
   "language": "python",
   "name": "python3"
  },
  "language_info": {
   "codemirror_mode": {
    "name": "ipython",
    "version": 3
   },
   "file_extension": ".py",
   "mimetype": "text/x-python",
   "name": "python",
   "nbconvert_exporter": "python",
   "pygments_lexer": "ipython3",
   "version": "3.5.2"
  }
 },
 "nbformat": 4,
 "nbformat_minor": 1
}
