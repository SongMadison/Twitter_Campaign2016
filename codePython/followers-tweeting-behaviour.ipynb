{
 "cells": [
  {
   "cell_type": "code",
   "execution_count": 1,
   "metadata": {
    "collapsed": false
   },
   "outputs": [
    {
     "ename": "KeyboardInterrupt",
     "evalue": "",
     "output_type": "error",
     "traceback": [
      "\u001b[0;31m---------------------------------------------------------------------------\u001b[0m",
      "\u001b[0;31mKeyboardInterrupt\u001b[0m                         Traceback (most recent call last)",
      "\u001b[0;32m<ipython-input-1-0bed0d848ee0>\u001b[0m in \u001b[0;36m<module>\u001b[0;34m()\u001b[0m\n\u001b[1;32m     61\u001b[0m     \u001b[0mtweets\u001b[0m \u001b[0;34m=\u001b[0m \u001b[0mpd\u001b[0m\u001b[0;34m.\u001b[0m\u001b[0mread_csv\u001b[0m\u001b[0;34m(\u001b[0m\u001b[0minput_file\u001b[0m\u001b[0;34m,\u001b[0m \u001b[0mdtype\u001b[0m \u001b[0;34m=\u001b[0m\u001b[0mstr\u001b[0m\u001b[0;34m,\u001b[0m \u001b[0mindex_col\u001b[0m \u001b[0;34m=\u001b[0m \u001b[0;36m0\u001b[0m\u001b[0;34m)\u001b[0m \u001b[0;31m#first column is ids\u001b[0m\u001b[0;34m\u001b[0m\u001b[0m\n\u001b[1;32m     62\u001b[0m     \u001b[0mtweets\u001b[0m\u001b[0;34m[\u001b[0m\u001b[0;34m'created_at'\u001b[0m\u001b[0;34m]\u001b[0m \u001b[0;34m=\u001b[0m \u001b[0mpd\u001b[0m\u001b[0;34m.\u001b[0m\u001b[0mto_datetime\u001b[0m\u001b[0;34m(\u001b[0m\u001b[0mtweets\u001b[0m\u001b[0;34m[\u001b[0m\u001b[0;34m'created_at'\u001b[0m\u001b[0;34m]\u001b[0m\u001b[0;34m)\u001b[0m\u001b[0;34m\u001b[0m\u001b[0m\n\u001b[0;32m---> 63\u001b[0;31m     \u001b[0mdf\u001b[0m \u001b[0;34m=\u001b[0m \u001b[0mcalFreqDataFrame\u001b[0m\u001b[0;34m(\u001b[0m\u001b[0mtweets\u001b[0m\u001b[0;34m,\u001b[0m \u001b[0mdates\u001b[0m\u001b[0;34m)\u001b[0m\u001b[0;34m\u001b[0m\u001b[0m\n\u001b[0m\u001b[1;32m     64\u001b[0m     \u001b[0mresult\u001b[0m \u001b[0;34m=\u001b[0m \u001b[0mpd\u001b[0m\u001b[0;34m.\u001b[0m\u001b[0mconcat\u001b[0m\u001b[0;34m(\u001b[0m\u001b[0;34m[\u001b[0m\u001b[0mresult\u001b[0m\u001b[0;34m,\u001b[0m\u001b[0mdf\u001b[0m\u001b[0;34m]\u001b[0m\u001b[0;34m)\u001b[0m\u001b[0;34m\u001b[0m\u001b[0m\n\u001b[1;32m     65\u001b[0m     \u001b[0mprint\u001b[0m\u001b[0;34m(\u001b[0m\u001b[0mf\u001b[0m\u001b[0;34m+\u001b[0m\u001b[0;34m\" is done.\"\u001b[0m\u001b[0;34m)\u001b[0m\u001b[0;34m\u001b[0m\u001b[0m\n",
      "\u001b[0;32m<ipython-input-1-0bed0d848ee0>\u001b[0m in \u001b[0;36mcalFreqDataFrame\u001b[0;34m(tweets, dates)\u001b[0m\n\u001b[1;32m     44\u001b[0m         \u001b[0mtws\u001b[0m \u001b[0;34m=\u001b[0m \u001b[0mtweets\u001b[0m\u001b[0;34m.\u001b[0m\u001b[0mloc\u001b[0m\u001b[0;34m[\u001b[0m\u001b[0mtweets\u001b[0m\u001b[0;34m[\u001b[0m\u001b[0;34m'user_id_str'\u001b[0m\u001b[0;34m]\u001b[0m \u001b[0;34m==\u001b[0m \u001b[0mu\u001b[0m\u001b[0;34m]\u001b[0m\u001b[0;34m\u001b[0m\u001b[0m\n\u001b[1;32m     45\u001b[0m         \u001b[0mcreated_at\u001b[0m \u001b[0;34m=\u001b[0m \u001b[0mpd\u001b[0m\u001b[0;34m.\u001b[0m\u001b[0mto_datetime\u001b[0m\u001b[0;34m(\u001b[0m\u001b[0mtws\u001b[0m\u001b[0;34m[\u001b[0m\u001b[0;34m'created_at'\u001b[0m\u001b[0;34m]\u001b[0m\u001b[0;34m.\u001b[0m\u001b[0mas_matrix\u001b[0m\u001b[0;34m(\u001b[0m\u001b[0;34m)\u001b[0m\u001b[0;34m)\u001b[0m\u001b[0;34m\u001b[0m\u001b[0m\n\u001b[0;32m---> 46\u001b[0;31m         \u001b[0mcounts\u001b[0m \u001b[0;34m=\u001b[0m \u001b[0mtable\u001b[0m\u001b[0;34m(\u001b[0m\u001b[0mcreated_at\u001b[0m\u001b[0;34m,\u001b[0m \u001b[0mdates\u001b[0m\u001b[0;34m)\u001b[0m\u001b[0;34m\u001b[0m\u001b[0m\n\u001b[0m\u001b[1;32m     47\u001b[0m         \u001b[0mmin_max\u001b[0m \u001b[0;34m=\u001b[0m \u001b[0mfind_minMax\u001b[0m\u001b[0;34m(\u001b[0m\u001b[0mcreated_at\u001b[0m\u001b[0;34m)\u001b[0m\u001b[0;34m\u001b[0m\u001b[0m\n\u001b[1;32m     48\u001b[0m         \u001b[0mmin_max\u001b[0m\u001b[0;34m.\u001b[0m\u001b[0mextend\u001b[0m\u001b[0;34m(\u001b[0m\u001b[0mcounts\u001b[0m\u001b[0;34m)\u001b[0m\u001b[0;34m\u001b[0m\u001b[0m\n",
      "\u001b[0;32m<ipython-input-1-0bed0d848ee0>\u001b[0m in \u001b[0;36mtable\u001b[0;34m(x, breaks)\u001b[0m\n\u001b[1;32m     23\u001b[0m     \u001b[0mcounts\u001b[0m \u001b[0;34m=\u001b[0m \u001b[0;34m[\u001b[0m\u001b[0;36m0\u001b[0m\u001b[0;34m]\u001b[0m\u001b[0;34m*\u001b[0m\u001b[0;34m(\u001b[0m\u001b[0mn\u001b[0m\u001b[0;34m+\u001b[0m\u001b[0;36m1\u001b[0m\u001b[0;34m)\u001b[0m\u001b[0;34m\u001b[0m\u001b[0m\n\u001b[1;32m     24\u001b[0m     \u001b[0;32mfor\u001b[0m \u001b[0mi\u001b[0m \u001b[0;32min\u001b[0m \u001b[0mrange\u001b[0m\u001b[0;34m(\u001b[0m\u001b[0mlen\u001b[0m\u001b[0;34m(\u001b[0m\u001b[0mx\u001b[0m\u001b[0;34m)\u001b[0m\u001b[0;34m)\u001b[0m\u001b[0;34m:\u001b[0m\u001b[0;34m\u001b[0m\u001b[0m\n\u001b[0;32m---> 25\u001b[0;31m         \u001b[0midx\u001b[0m \u001b[0;34m=\u001b[0m \u001b[0mfindInterval\u001b[0m\u001b[0;34m(\u001b[0m\u001b[0mx\u001b[0m\u001b[0;34m[\u001b[0m\u001b[0mi\u001b[0m\u001b[0;34m]\u001b[0m\u001b[0;34m,\u001b[0m \u001b[0mbreaks\u001b[0m\u001b[0;34m)\u001b[0m\u001b[0;34m\u001b[0m\u001b[0m\n\u001b[0m\u001b[1;32m     26\u001b[0m         \u001b[0mcounts\u001b[0m\u001b[0;34m[\u001b[0m\u001b[0midx\u001b[0m\u001b[0;34m]\u001b[0m \u001b[0;34m+=\u001b[0m \u001b[0;36m1\u001b[0m\u001b[0;34m\u001b[0m\u001b[0m\n\u001b[1;32m     27\u001b[0m     \u001b[0;32mreturn\u001b[0m \u001b[0mcounts\u001b[0m\u001b[0;34m\u001b[0m\u001b[0m\n",
      "\u001b[0;32m<ipython-input-1-0bed0d848ee0>\u001b[0m in \u001b[0;36mfindInterval\u001b[0;34m(x, breaks)\u001b[0m\n\u001b[1;32m     10\u001b[0m     \u001b[0;32mif\u001b[0m \u001b[0mx\u001b[0m \u001b[0;34m>=\u001b[0m \u001b[0mbreaks\u001b[0m\u001b[0;34m[\u001b[0m\u001b[0mn\u001b[0m\u001b[0;34m-\u001b[0m\u001b[0;36m1\u001b[0m\u001b[0;34m]\u001b[0m\u001b[0;34m:\u001b[0m\u001b[0;34m\u001b[0m\u001b[0m\n\u001b[1;32m     11\u001b[0m         \u001b[0;32mreturn\u001b[0m \u001b[0mn\u001b[0m\u001b[0;34m\u001b[0m\u001b[0m\n\u001b[0;32m---> 12\u001b[0;31m     \u001b[0mleft\u001b[0m \u001b[0;34m=\u001b[0m \u001b[0;36m0\u001b[0m\u001b[0;34m;\u001b[0m \u001b[0mright\u001b[0m \u001b[0;34m=\u001b[0m \u001b[0mn\u001b[0m\u001b[0;34m-\u001b[0m\u001b[0;36m1\u001b[0m\u001b[0;34m\u001b[0m\u001b[0m\n\u001b[0m\u001b[1;32m     13\u001b[0m     \u001b[0;32mwhile\u001b[0m \u001b[0mright\u001b[0m \u001b[0;34m-\u001b[0m\u001b[0mleft\u001b[0m \u001b[0;34m>\u001b[0m\u001b[0;36m1\u001b[0m\u001b[0;34m:\u001b[0m\u001b[0;34m\u001b[0m\u001b[0m\n\u001b[1;32m     14\u001b[0m         \u001b[0mmid\u001b[0m \u001b[0;34m=\u001b[0m \u001b[0;34m(\u001b[0m\u001b[0mleft\u001b[0m\u001b[0;34m+\u001b[0m\u001b[0mright\u001b[0m\u001b[0;34m)\u001b[0m\u001b[0;34m//\u001b[0m\u001b[0;36m2\u001b[0m\u001b[0;34m\u001b[0m\u001b[0m\n",
      "\u001b[0;31mKeyboardInterrupt\u001b[0m: "
     ]
    }
   ],
   "source": [
    "import pandas as pd\n",
    "import numpy as np\n",
    "from os import listdir\n",
    "from os.path import isfile, join\n",
    "\n",
    "def findInterval(x, breaks):\n",
    "    n = len(breaks)\n",
    "    if x < breaks[0]:\n",
    "        return 0\n",
    "    if x >= breaks[n-1]:\n",
    "        return n\n",
    "    left = 0; right = n-1\n",
    "    while right -left >1:\n",
    "        mid = (left+right)//2\n",
    "        if breaks[mid] <= x:\n",
    "            left = mid\n",
    "        elif breaks[mid] > x:\n",
    "            right = mid\n",
    "    return left+1\n",
    "\n",
    "def table(x , breaks):\n",
    "    n = len(breaks)\n",
    "    counts = [0]*(n+1)\n",
    "    for i in range(len(x)):\n",
    "        idx = findInterval(x[i], breaks)\n",
    "        counts[idx] += 1\n",
    "    return counts \n",
    "\n",
    "def find_minMax(x):\n",
    "    m1 = x[0]\n",
    "    m2 = x[0]\n",
    "    for i in range(1,len(x)):\n",
    "        if x[i] < m1:\n",
    "            m1 = x[i]\n",
    "        if x[i] > m2:\n",
    "            m2 = x[i]\n",
    "    return [m1,m2]    \n",
    "\n",
    "\n",
    "def calFreqDataFrame(tweets, dates):\n",
    "    res = {}\n",
    "    users = tweets['user_id_str'].unique()\n",
    "    for u in users:\n",
    "        tws = tweets.loc[tweets['user_id_str'] == u]\n",
    "        created_at = pd.to_datetime(tws['created_at'].as_matrix())\n",
    "        counts = table(created_at, dates)\n",
    "        min_max = find_minMax(created_at)\n",
    "        min_max.extend(counts)\n",
    "        res[u] = min_max\n",
    "        #print (u, len(created_at))\n",
    "    out = pd.DataFrame.from_dict(res, orient =\"index\")  \n",
    "    return out    \n",
    "\n",
    "\n",
    "files = listdir(\"../../data/friends_info/edgelist_Feb27/timelines_csv_simplified/\")\n",
    "files.sort()\n",
    "dates = pd.date_range(start = '2015-01-01', end = '2017-03-05', freq='7D')\n",
    "result = None\n",
    "for f in files[:29]:\n",
    "    input_file = join(\"../../data/friends_info/edgelist_Feb27/timelines_csv_simplified/\", f)\n",
    "    tweets = pd.read_csv(input_file, dtype =str, index_col = 0) #first column is ids\n",
    "    tweets['created_at'] = pd.to_datetime(tweets['created_at'])\n",
    "    df = calFreqDataFrame(tweets, dates)\n",
    "    result = pd.concat([result,df])\n",
    "    print(f+\" is done.\")\n",
    "\n",
    "columns = ['start','end']\n",
    "columns.extend(['week_'+str(i) for i in range(len(dates)+1)])\n",
    "result.columns = columns\n",
    "result.to_csv(\"../../data/friends_info/edgelist_Feb27/followers_tweets_time_1.csv\") \n"
   ]
  },
  {
   "cell_type": "code",
   "execution_count": 3,
   "metadata": {
    "collapsed": false
   },
   "outputs": [
    {
     "data": {
      "text/plain": [
       "'t01_part1.csv'"
      ]
     },
     "execution_count": 3,
     "metadata": {},
     "output_type": "execute_result"
    }
   ],
   "source": [
    "f"
   ]
  },
  {
   "cell_type": "code",
   "execution_count": 164,
   "metadata": {
    "collapsed": false
   },
   "outputs": [],
   "source": [
    "#write out the result\n",
    "\n",
    "columns = ['start','end']\n",
    "columns.extend(['week_'+str(i) for i in range(len(dates)+1)])\n",
    "result.columns = columns\n",
    "result.to_csv(\"../../data/friends_info/edgelist_Feb27/followers_tweets_time_t01p1.csv\") \n"
   ]
  },
  {
   "cell_type": "code",
   "execution_count": 68,
   "metadata": {
    "collapsed": false,
    "scrolled": true
   },
   "outputs": [
    {
     "name": "stdout",
     "output_type": "stream",
     "text": [
      "<class 'pandas.core.frame.DataFrame'>\n",
      "6598916\n",
      "(6598916, 4)\n",
      "(2733, 4)\n"
     ]
    }
   ],
   "source": [
    "print(type(tweets))\n",
    "print(len(tweets))\n",
    "print(tweets.shape)\n",
    "tweets.iloc[:5,]\n",
    "\n",
    "\n",
    "tweets1 = tweets.loc[tweets['user_id_str'] == \"55339194\"]\n",
    "print(tweets1.shape)\n"
   ]
  },
  {
   "cell_type": "code",
   "execution_count": 76,
   "metadata": {
    "collapsed": false
   },
   "outputs": [],
   "source": [
    "input_file = join(\"../../data/friends_info/edgelist_Feb27/timelines_csv_simplified/\", f)\n",
    "tweets = pd.read_csv(input_file, dtype =str, index_col = 0) #first column is ids\n",
    "tweets['created_at'] = pd.to_datetime(tweets['created_at'])\n",
    "tweets['user_id_str'].unique()\n",
    "users = ['55339194', '793484149063553025', '940371728']\n",
    "tweets = tweets.loc[tweets['user_id_str'].isin (users)] #smaller file\n",
    "\n",
    "x = \"2016-08-10\"\n",
    "x = datetime.datetime.strptime(x, \"%Y-%m-%d\")\n",
    "print(findInterval(x, dates))\n",
    "len(dates)\n",
    "\n",
    "xx = tweets1['created_at']\n",
    "print(table(xx,  dates))\n",
    "\n",
    "df = calFreqDataFrame(tweets, dates)\n",
    "columns = ['min_time','max_time'] \n",
    "columns.extend(['week_'+str(i) for i in range(len(dates)+1)])\n",
    "df.columns = columns\n",
    "df"
   ]
  },
  {
   "cell_type": "code",
   "execution_count": 77,
   "metadata": {
    "collapsed": false
   },
   "outputs": [
    {
     "name": "stdout",
     "output_type": "stream",
     "text": [
      "(6029, 4)\n"
     ]
    }
   ],
   "source": [
    "print(tweets.shape)"
   ]
  }
 ],
 "metadata": {
  "anaconda-cloud": {},
  "kernelspec": {
   "display_name": "Python [default]",
   "language": "python",
   "name": "python3"
  },
  "language_info": {
   "codemirror_mode": {
    "name": "ipython",
    "version": 3
   },
   "file_extension": ".py",
   "mimetype": "text/x-python",
   "name": "python",
   "nbconvert_exporter": "python",
   "pygments_lexer": "ipython3",
   "version": "3.5.2"
  }
 },
 "nbformat": 4,
 "nbformat_minor": 1
}
