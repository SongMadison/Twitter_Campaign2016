{
 "cells": [
  {
   "cell_type": "code",
   "execution_count": 9,
   "metadata": {
    "collapsed": false
   },
   "outputs": [],
   "source": [
    "## read in the adjlist, followers and its list of friends\n",
    "import csv\n",
    "import re\n",
    "def cleanData(input_file):\n",
    "    \"\"\"\n",
    "    : type input_file: list[str] \n",
    "    a text file name, each row is a string \n",
    "    starting with a screen_name, and a list of id_str's  of his fiends, separated by ','\n",
    "    : rtype : list[list]\n",
    "     remove some rows, with 0 friends or have 'NA' as their friends, which indicates \n",
    "                downloading unsucessfully\n",
    "    \"\"\"\n",
    "\n",
    "    f = open(input_file, \"r\")\n",
    "    adjlist = []\n",
    "    failed_sn = []\n",
    "    #removed those having 0 friends, having 'NA' as friends -- did not download friends list sucessfullly,\n",
    "    for line in f:\n",
    "        a = line.split(',')\n",
    "        a =[re.sub(\"\\n\", \"\", x) for x in a]\n",
    "        if len(a) >=3 or (len(a) == 2 and a[1] != 'NA'):\n",
    "            adjlist.append(a)    #adjlist is a list[list]\n",
    "        if len(a) ==2 and a[1] =='NA' :\n",
    "            failed_sn.append(a[0])    \n",
    " \n",
    "    return (adjlist, failed_sn) \n",
    "  \n",
    " \n",
    "    "
   ]
  },
  {
   "cell_type": "code",
   "execution_count": 10,
   "metadata": {
    "collapsed": false
   },
   "outputs": [
    {
     "name": "stdout",
     "output_type": "stream",
     "text": [
      "23601 2621 26881 3115\n"
     ]
    }
   ],
   "source": [
    "# random vs non-random\n",
    "#first sample\n",
    "\"\"\"\n",
    "adjlist,failed = cleanData(\"../data/followers_Network/random100K.txt\")\n",
    "adjlist1, failed1 = cleanData(\"../data/followers_Network/non-random100K.txt\")\n",
    "print(len(adjlist),len(failed), len(adjlist1), len(failed1)) # 27,29 are having 0 friends\n",
    "\"\"\"\n",
    "\n",
    "adjlist,failed = cleanData(\"/p/stat/songwang/Bip100k2/random100K.txt\")\n",
    "adjlist1, failed1 = cleanData(\"/p/stat/songwang/Bip100k2/non-random100K.txt\")\n",
    "print(len(adjlist),len(failed), len(adjlist1), len(failed1)) # 27,29 are having 0 friends\n"
   ]
  },
  {
   "cell_type": "code",
   "execution_count": 11,
   "metadata": {
    "collapsed": false
   },
   "outputs": [
    {
     "name": "stdout",
     "output_type": "stream",
     "text": [
      "26241 2621 30011 3115\n"
     ]
    }
   ],
   "source": [
    "#recreate  the sample100000.csv, since the origin file missing\n",
    "def extraId_str (input_file):\n",
    "    all_sn = []\n",
    "    failed_sn = []\n",
    "    f = open(input_file, \"r\")\n",
    "    for line in f:\n",
    "        items = line.split(',')\n",
    "        items = [re.sub(\"\\n|\\t\", \"\", x) for x in items]\n",
    "        all_sn.append(items[0])\n",
    "        if len(items) ==2 and items[1] =='NA' :\n",
    "            failed_sn.append(items[0])\n",
    "    return (all_sn, failed_sn)        \n",
    "\n",
    "\"\"\"\n",
    "all1, failed1 = extraId_str(\"../data/followers_Network/random100K.txt\")\n",
    "all2, failed2 = extraId_str(\"../data/followers_Network/non-random100K.txt\")\n",
    "print (len(all1), len(failed1), len(all2), len(failed2))\n",
    "\"\"\"\n",
    "all1, failed1 = extraId_str(\"/p/stat/songwang/Bip100k2/random100K.txt\")\n",
    "all2, failed2 = extraId_str(\"/p/stat/songwang/Bip100k2/non-random100K.txt\")\n",
    "print (len(all1), len(failed1), len(all2), len(failed2))\n"
   ]
  },
  {
   "cell_type": "code",
   "execution_count": 12,
   "metadata": {
    "collapsed": false
   },
   "outputs": [
    {
     "name": "stdout",
     "output_type": "stream",
     "text": [
      "5138803\n",
      "26241 30011\n"
     ]
    }
   ],
   "source": [
    "import csv\n",
    "sn2id_str = {}\n",
    "with open('../data/followers_Network/id_counts.csv', 'r') as csvfile:\n",
    "    reader = csv.DictReader(csvfile)\n",
    "    for row in reader:\n",
    "        sn = row['screen_name']\n",
    "        id_str = row['id_str'] \n",
    "        if not sn in sn2id_str:\n",
    "            sn2id_str[sn] = id_str\n",
    "print(len(sn2id_str))\n",
    "#3 fewer than number of rows  5138806\n",
    "idAll1 =[sn2id_str[sn] if sn in sn2id_str else 'NA' for sn in all1]\n",
    "idAll2 =[sn2id_str[sn] if sn in sn2id_str else 'NA' for sn in all2]\n",
    "print(len(idAll1),len(idAll2))"
   ]
  },
  {
   "cell_type": "code",
   "execution_count": 13,
   "metadata": {
    "collapsed": false
   },
   "outputs": [
    {
     "name": "stdout",
     "output_type": "stream",
     "text": [
      "0\n",
      "0\n"
     ]
    }
   ],
   "source": [
    "nNA =0 \n",
    "for i in idAll1:\n",
    "    if i =='NA':\n",
    "        nNA += 1\n",
    "        print(i)\n",
    "print(nNA) \n",
    "nNA =0 \n",
    "for i in idAll2:\n",
    "    if i =='NA':\n",
    "        nNA += 1\n",
    "        print(i)\n",
    "print(nNA) \n",
    "\n",
    "import csv\n",
    "import pandas as pd\n",
    "data = {'random' : pd.Series(idAll1),  'non-random': pd.Series(idAll2)}\n",
    "df = pd.DataFrame(data)\n",
    "#df.to_csv('../data/followers_Network/sample100000_recovered.csv')\n"
   ]
  },
  {
   "cell_type": "code",
   "execution_count": 14,
   "metadata": {
    "collapsed": false
   },
   "outputs": [
    {
     "name": "stdout",
     "output_type": "stream",
     "text": [
      "True\n"
     ]
    }
   ],
   "source": [
    "#exploring the reasons for failures\n",
    "\n",
    "\n",
    "#1 # proteced rate \n",
    "import csv\n",
    "protected = {}\n",
    "with open('../data/followers_Network/id_counts.csv', 'r') as csvfile:\n",
    "    reader = csv.DictReader(csvfile)\n",
    "    for row in reader:\n",
    "        #print (row)\n",
    "        sn = row['screen_name']\n",
    "        status = row['protected']\n",
    "        if not sn in protected:\n",
    "            protected[sn] = status\n",
    "            \n",
    "  \n",
    "\n",
    "len(protected.keys())\n",
    "print(protected['aok_89'])"
   ]
  },
  {
   "cell_type": "code",
   "execution_count": 15,
   "metadata": {
    "collapsed": false
   },
   "outputs": [
    {
     "name": "stdout",
     "output_type": "stream",
     "text": [
      "5138803 420123 0.08175503127868494\n",
      "2621 2027 0.7733689431514689\n",
      "3115 2415 0.7752808988764045\n"
     ]
    }
   ],
   "source": [
    "## overall rate:\n",
    "count =0 \n",
    "\n",
    "for sn in protected.keys():\n",
    "    if protected[sn] == 'True':\n",
    "        count +=1\n",
    "        \n",
    "print(len(protected), count, count/len(protected))\n",
    "\n",
    "\n",
    "protected1 = []\n",
    "count1 =0\n",
    "for sn in failed1:\n",
    "    if protected[sn] == 'True':\n",
    "        count1 += 1\n",
    "    protected1.append(protected[sn])\n",
    "print(len(failed1), count1, count1/len(failed1))        \n",
    "\n",
    "count2 = 0\n",
    "protected2 = []\n",
    "for sn in failed2:\n",
    "    if protected[sn] == 'True':\n",
    "        count2 += 1\n",
    "    protected2.append(protected[sn])\n",
    "print(len(failed2), count2, count2/len(failed2))           "
   ]
  },
  {
   "cell_type": "code",
   "execution_count": 16,
   "metadata": {
    "collapsed": false
   },
   "outputs": [
    {
     "name": "stdout",
     "output_type": "stream",
     "text": [
      "['Harrell6Myra', 'larry_drozda', 'Raabitshack', 'justinbilderbac', 'Lewshuigi', 'shangkumi', 'Bigberg25', 'ObrechtPaul', 'GddssFrstClss', 'tonyuck', 'NomanRiasat1', 'chloepiperrr', 'ippilearning', '601baronne', 'awalzie', 'fcordero11', 'bevhillstrainer', 'HeatherW1192', 'yancarras3', 'OzzySr'] ['isabelReynosoC', 'yzznxx25', 'nathan_Ingram', 'laura_mickey', 'InFuZioNclanEU', 'dannycaceres024', 'bradmorrical', 'ejps3', 'TimKelley5', 'jbrennz620', 'Calluev', 'SeldonPlan1000', 'Nyashaddy', 'danny_jacks0n', 'NolonaChaney', 'llcoopll', 'mathavankandiah', 'KitWyatt', 'Zla_Zla_Vestica', 'Hambone_61'] ['True', 'True', 'True', 'True', 'True', 'False', 'True', 'True', 'True', 'False', 'True', 'True', 'True', 'True', 'True', 'True', 'True', 'True', 'True', 'True'] ['False', 'False', 'True', 'True', 'False', 'True', 'False', 'False', 'True', 'True', 'True', 'True', 'True', 'True', 'True', 'True', 'True', 'True', 'True', 'True']\n",
      "3115\n",
      "isabelReynosoC False\n",
      "yzznxx25 False\n",
      "InFuZioNclanEU False\n",
      "bradmorrical False\n",
      "ejps3 False\n",
      "Hong_Xinyi False\n",
      "onisujanailuj False\n",
      "JohnRiversToo False\n",
      "jordandiazlol False\n",
      "yuyagunxitredl False\n",
      "_________gaby False\n"
     ]
    }
   ],
   "source": [
    "print(failed1[:20], failed2[:20], protected1[:20], protected2[:20])\n",
    "# reasons for failure :\n",
    "\"\"\"\n",
    "1, Account suspended -- most cases\n",
    "2, Doesn't exist  -- \n",
    "3, protected now\n",
    "4, some are fine, why? 'soutientMarina'\n",
    "\"\"\"\n",
    "print(len(protected2))\n",
    "i = 0\n",
    "c =0\n",
    "while i <len(protected2):\n",
    "    if protected2[i] != 'True':\n",
    "        c +=1\n",
    "        print(failed2[i], protected2[i])\n",
    "        if c >10:\n",
    "            break\n",
    "    i += 1    "
   ]
  },
  {
   "cell_type": "code",
   "execution_count": null,
   "metadata": {
    "collapsed": true
   },
   "outputs": [],
   "source": []
  },
  {
   "cell_type": "code",
   "execution_count": 17,
   "metadata": {
    "collapsed": false
   },
   "outputs": [
    {
     "name": "stdout",
     "output_type": "stream",
     "text": [
      "424124 5188806 0.08173826502667474\n"
     ]
    }
   ],
   "source": [
    "n_True = 0\n",
    "n_total = 0\n",
    "with open('../data/followers_Network/id_counts.csv', 'r') as csvfile:\n",
    "    reader = csv.DictReader(csvfile)\n",
    "    for row in reader:\n",
    "        n_total += 1\n",
    "        if row['protected'] == 'True':\n",
    "            n_True += 1\n",
    "print(n_True, n_total, n_True/n_total)"
   ]
  },
  {
   "cell_type": "raw",
   "metadata": {},
   "source": []
  },
  {
   "cell_type": "code",
   "execution_count": null,
   "metadata": {
    "collapsed": false
   },
   "outputs": [],
   "source": []
  },
  {
   "cell_type": "code",
   "execution_count": 18,
   "metadata": {
    "collapsed": false
   },
   "outputs": [],
   "source": [
    "class createBip(object):\n",
    "    \n",
    "    def __init__(self, adjlist, threshold):\n",
    "        \"\"\"\n",
    "        adjlist type: list[list] first is follower_id, the rest are the friendsID\n",
    "        rtype : None\n",
    "        \"\"\"\n",
    "        self.adjlist = adjlist\n",
    "        self.threshold = threshold\n",
    "        self.edgelist = []\n",
    "        self.reducedAdjlist = []\n",
    "        \n",
    "    \n",
    "    def calculateFriendsCount(self):\n",
    "        \"\"\"\n",
    "        keep the friends with >= threshold followers\n",
    "        \"\"\"\n",
    "        friendsCount = {}\n",
    "        for line in self.adjlist:\n",
    "            for id_str in line[1:]:\n",
    "                if id_str in friendsCount.keys():\n",
    "                    friendsCount[id_str] = friendsCount[id_str] +1\n",
    "                else:\n",
    "                    friendsCount[id_str] = 1\n",
    "        friendsCount_threshold = {}           \n",
    "        for key in friendsCount.keys():\n",
    "            if friendsCount[key] >= self.threshold:\n",
    "                friendsCount_threshold[key] = friendsCount[key]\n",
    "        #for key in friendsCount.keys(): \n",
    "        #    if friendsCount[key] < threshold:\n",
    "        #        del friendsCount[key]  # size changed during the iteration\n",
    "        return friendsCount_threshold        \n",
    "                \n",
    "    def createEdgelist(self):\n",
    "        \"\"\"\n",
    "        create the edgelist from the adjlist\n",
    "        \"\"\"\n",
    "        friendsCount = self.calculateFriendsCount()\n",
    "        #newAdjlist = []\n",
    "        for line in self.adjlist:\n",
    "            a = []\n",
    "            a.append(line[0])\n",
    "            for id_str in line[1:]:\n",
    "                if id_str in friendsCount.keys():\n",
    "                    a.append(id_str)\n",
    "                    self.edgelist.append( (line[0],id_str) )\n",
    "            self.reducedAdjlist.append(a) \n",
    "        \n",
    "                    \n",
    "\n"
   ]
  },
  {
   "cell_type": "code",
   "execution_count": 19,
   "metadata": {
    "collapsed": false
   },
   "outputs": [],
   "source": [
    "import csv\n",
    "#random graph\n",
    "\n",
    "BipGraph = createBip(adjlist,5)  #2\n",
    "BipGraph.createEdgelist()\n",
    "\"\"\"\n",
    "'../data/followers_Network/edgelist-random100K-2.csv'\n",
    "\"\"\"\n",
    "\n",
    "with open('/p/stat/songwang/Bip100k2/edgelist-random100K-5.csv','w') as out:\n",
    "    csv_out=csv.writer(out)\n",
    "    csv_out.writerow(['follower_id_str','friends_id_str'])\n",
    "    for row in BipGraph.edgelist:\n",
    "        csv_out.writerow(row)\n",
    "        \n",
    "fcount =BipGraph.calculateFriendsCount()\n",
    "#print(fcount)\n",
    "\"\"\"\n",
    "'../data/followers_Network/friendsIDs-random100K.csv'\n",
    "\"\"\"\n",
    "with open('/p/stat/songwang/Bip100k2/friendsIDs-random100K.csv','w') as out:\n",
    "    csv_out=csv.writer(out)\n",
    "    csv_out.writerow(['friends_id_str', 'followerCount'])\n",
    "    i = 0\n",
    "    for key in fcount.keys():\n",
    "        csv_out.writerow((i, key,fcount[key]))\n",
    "        i += 1"
   ]
  },
  {
   "cell_type": "code",
   "execution_count": 20,
   "metadata": {
    "collapsed": false
   },
   "outputs": [
    {
     "name": "stdout",
     "output_type": "stream",
     "text": [
      "139675\n"
     ]
    }
   ],
   "source": [
    "\n",
    "import csv\n",
    "#non-random graph\n",
    "\n",
    "BipGraph1 = createBip(adjlist1, 5)\n",
    "BipGraph1.createEdgelist()\n",
    "\"\"\"\n",
    "'../data/followers_Network/edgelist-non-random100K-2.csv'\n",
    "\"\"\"\n",
    "with open('/p/stat/songwang/Bip100k2/edgelist-non-random100K-5.csv','w') as out:\n",
    "    csv_out=csv.writer(out)\n",
    "    csv_out.writerow(['follower_id_str','friends_id_str'])\n",
    "    for row in BipGraph1.edgelist:\n",
    "        csv_out.writerow(row)\n",
    "        \n",
    "        \n",
    "fcount1 =BipGraph1.calculateFriendsCount()\n",
    "print( len(fcount1))    \n",
    "\"\"\"\n",
    "'../data/followers_Network/friendsIDs-non-random100K.csv'\n",
    "\"\"\"\n",
    "with open('/p/stat/songwang/Bip100k2/friendsIDs-non-random100K.csv','w') as out:\n",
    "    csv_out=csv.writer(out)\n",
    "    csv_out.writerow(['friends_id_str', 'followerCount'])\n",
    "    i = 0\n",
    "    for key in fcount1.keys():\n",
    "        csv_out.writerow((i, key,fcount1[key]))   \n",
    "        i += 1"
   ]
  },
  {
   "cell_type": "code",
   "execution_count": 21,
   "metadata": {
    "collapsed": false
   },
   "outputs": [
    {
     "name": "stdout",
     "output_type": "stream",
     "text": [
      "118239 139675\n"
     ]
    }
   ],
   "source": [
    "\n",
    "# 5 threshold, friends count\n",
    "print(len(fcount), len(fcount1))\n",
    "#214821 374004\n",
    "# 2 shrehold\n",
    "#831808 1474288"
   ]
  },
  {
   "cell_type": "code",
   "execution_count": 22,
   "metadata": {
    "collapsed": false
   },
   "outputs": [
    {
     "name": "stdout",
     "output_type": "stream",
     "text": [
      "184\n"
     ]
    },
    {
     "data": {
      "text/plain": [
       "69"
      ]
     },
     "execution_count": 22,
     "metadata": {},
     "output_type": "execute_result"
    }
   ],
   "source": [
    "## explore degrees, including the person self. deg ==2, just one friends\n",
    "length = [len(x) for x in adjlist1] # row degee, including \n",
    "table_length = {}\n",
    "for x in length:\n",
    "    if x in table_length:\n",
    "        table_length[x] += 1\n",
    "    else:\n",
    "        table_length[x] = 1\n",
    "        \n",
    "\n",
    "#print(table_length)        # not following #54450 contailing one friends, are they NA?\n",
    "\n",
    "ones = []\n",
    "for x in adjlist1: #adjlist\n",
    "    if len(x) ==2:\n",
    "        #print(x)\n",
    "        ones.append(x)\n",
    "\n",
    "print(len(ones))\n",
    "\n",
    "len(adjlist[0])"
   ]
  },
  {
   "cell_type": "code",
   "execution_count": null,
   "metadata": {
    "collapsed": true
   },
   "outputs": [],
   "source": []
  }
 ],
 "metadata": {
  "anaconda-cloud": {},
  "kernelspec": {
   "display_name": "Python [default]",
   "language": "python",
   "name": "python3"
  },
  "language_info": {
   "codemirror_mode": {
    "name": "ipython",
    "version": 3
   },
   "file_extension": ".py",
   "mimetype": "text/x-python",
   "name": "python",
   "nbconvert_exporter": "python",
   "pygments_lexer": "ipython3",
   "version": "3.5.2"
  }
 },
 "nbformat": 4,
 "nbformat_minor": 1
}
