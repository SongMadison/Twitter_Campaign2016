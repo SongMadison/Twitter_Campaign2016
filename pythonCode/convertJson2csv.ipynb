{
 "cells": [
  {
   "cell_type": "code",
   "execution_count": 1,
   "metadata": {
    "collapsed": false
   },
   "outputs": [
    {
     "data": {
      "text/plain": [
       "709874"
      ]
     },
     "execution_count": 1,
     "metadata": {},
     "output_type": "execute_result"
    }
   ],
   "source": [
    "#toy experiment, convert json to dataframe with selected columns\n",
    "import json\n",
    "import pandas as pd #toy experiment\n",
    "i = 1\n",
    "path = \"../data/followers_info/jsons/trump0\"+str(i)+\".json\"\n",
    "#path =\"../data/followers_info/followers10.json\"\n",
    "toys = [json.loads(line) for line in open(path)]  # list, in the memory\n",
    "\n",
    "\n",
    "len(toys) "
   ]
  },
  {
   "cell_type": "code",
   "execution_count": 18,
   "metadata": {
    "collapsed": false
   },
   "outputs": [
    {
     "name": "stdout",
     "output_type": "stream",
     "text": [
      "{'default_profile': [False], 'profile_background_color': ['1A1B1F'], 'description': [''], 'location': ['Duluth/Atlanta, GA'], 'id_str': ['443226440'], 'contributors_enabled': [False], 'followers_count': [16], 'friends_count': [127], 'name': ['Tony Schlitt'], 'utc_offset': [-14400], 'profile_sidebar_border_color': ['181A1E'], 'profile_background_image_url_https': ['https://abs.twimg.com/images/themes/theme9/bg.gif'], 'id': [443226440], 'favourites_count': [226], 'profile_use_background_image': [True], 'status': {'in_reply_to_status_id': {}, 'id_str': ['783437675328135173'], 'retweet_count': [1], 'is_quote_status': [False], 'retweeted': [False], 'in_reply_to_user_id': [442246443], 'in_reply_to_screen_name': ['brianhoyt24'], 'truncated': [False], 'source': ['<a href=\"http://twitter.com/download/iphone\" rel=\"nofollow\">Twitter for iPhone</a>'], 'favorite_count': [1], 'id': [7.83437675328135e+17], 'geo': {}, 'contributors': {}, 'lang': ['en'], 'favorited': [False], 'created_at': ['Tue Oct 04 22:44:32 +0000 2016'], 'text': ['@brianhoyt24 @FrontOfficeLos I did the same as Hoyt 😢, but you have to play a \"Woo! off\" between Hoyt and Dimino\\'s woos! 😂😂😂'], 'in_reply_to_user_id_str': ['442246443'], 'coordinates': {}, 'in_reply_to_status_id_str': {}, 'entities': {'hashtags': [], 'symbols': [], 'user_mentions': [{'indices': [[0], [12]], 'screen_name': ['brianhoyt24'], 'name': ['Happy Hoyt'], 'id': [442246443], 'id_str': ['442246443']}, {'indices': [[13], [28]], 'screen_name': ['FrontOfficeLos'], 'name': ['Los Medina'], 'id': [487944445], 'id_str': ['487944445']}], 'urls': []}, 'place': {'bounding_box': {'type': ['Polygon'], 'coordinates': [[[[-85.6052], [30.3556]], [[-80.7426], [30.3556]], [[-80.7426], [35.0008]], [[-85.6052], [35.0008]]]]}, 'place_type': ['admin'], 'attributes': {}, 'country': ['United States'], 'contained_within': [], 'id': ['7142eb97ae21e839'], 'country_code': ['US'], 'url': ['https://api.twitter.com/1.1/geo/id/7142eb97ae21e839.json'], 'name': ['Georgia'], 'full_name': ['Georgia, USA']}}, 'profile_image_url': ['http://pbs.twimg.com/profile_images/1883818109/Al3rB_CCIAAfSdq_normal.jpg'], 'verified': [False], 'is_translator': [False], 'created_at': ['Wed Dec 21 23:35:27 +0000 2011'], 'profile_background_image_url': ['http://abs.twimg.com/images/themes/theme9/bg.gif'], 'url': {}, 'profile_link_color': ['2FC2EF'], 'time_zone': ['Eastern Time (US & Canada)'], 'is_translation_enabled': [False], 'statuses_count': [600], 'has_extended_profile': [False], 'profile_sidebar_fill_color': ['252429'], 'notifications': [False], 'default_profile_image': [False], 'screen_name': ['printpirate'], 'geo_enabled': [True], 'lang': ['en'], 'listed_count': [0], 'following': [False], 'profile_image_url_https': ['https://pbs.twimg.com/profile_images/1883818109/Al3rB_CCIAAfSdq_normal.jpg'], 'entities': {'description': {'urls': []}}, 'follow_request_sent': [False], 'protected': [False], 'profile_background_tile': [False], 'profile_text_color': ['666666']}\n",
      "709874\n"
     ]
    }
   ],
   "source": [
    "\n",
    "print(toys[1])\n",
    "print(len(toys))\n",
    "cols = ['id_str', 'screen_name', 'name','created_at', 'description', \n",
    "        'location', 'time_zone',  'favourites_count','followers_count',  'friends_count',\n",
    "        'lang', 'listed_count' ,'statuses_count', 'geo_enabled', 'protected' ,'verified']   \n",
    " "
   ]
  },
  {
   "cell_type": "code",
   "execution_count": 19,
   "metadata": {
    "collapsed": false
   },
   "outputs": [
    {
     "ename": "NameError",
     "evalue": "name 'item_df' is not defined",
     "output_type": "error",
     "traceback": [
      "\u001b[0;31m---------------------------------------------------------------------------\u001b[0m",
      "\u001b[0;31mNameError\u001b[0m                                 Traceback (most recent call last)",
      "\u001b[0;32m<ipython-input-19-146ff7c1a011>\u001b[0m in \u001b[0;36m<module>\u001b[0;34m()\u001b[0m\n\u001b[1;32m     18\u001b[0m \u001b[0mtoys_df2\u001b[0m \u001b[0;34m=\u001b[0m \u001b[0mpd\u001b[0m\u001b[0;34m.\u001b[0m\u001b[0mDataFrame\u001b[0m\u001b[0;34m(\u001b[0m\u001b[0mtoys\u001b[0m\u001b[0;34m)\u001b[0m\u001b[0;34m\u001b[0m\u001b[0m\n\u001b[1;32m     19\u001b[0m \u001b[0;31m#print(toys_df2[cols])\u001b[0m\u001b[0;34m\u001b[0m\u001b[0;34m\u001b[0m\u001b[0m\n\u001b[0;32m---> 20\u001b[0;31m \u001b[0mitem_df\u001b[0m\u001b[0;34m.\u001b[0m\u001b[0mcolumns\u001b[0m\u001b[0;34m\u001b[0m\u001b[0m\n\u001b[0m\u001b[1;32m     21\u001b[0m \u001b[0;34m\u001b[0m\u001b[0m\n\u001b[1;32m     22\u001b[0m \u001b[0;34m\u001b[0m\u001b[0m\n",
      "\u001b[0;31mNameError\u001b[0m: name 'item_df' is not defined"
     ]
    }
   ],
   "source": [
    "def json2dataframe(json_list, cols):\n",
    "    data ={}\n",
    "    for c in cols:\n",
    "        data[c] = []\n",
    "    for item in json_list:\n",
    "        for c in cols:\n",
    "            if item[c] =={} or c not in item:\n",
    "                data[c].extend([''])\n",
    "            else:\n",
    "                data[c].extend(item[c])\n",
    "    data_df = pd.DataFrame.from_dict(data)  \n",
    "    return data_df\n",
    "\n",
    "toys_df = json2dataframe(toys, cols)\n",
    "\n",
    "\n",
    "## using function in pd, values will take list/ dictionary type [], {} \n",
    "toys_df2 = pd.DataFrame(toys)\n",
    "#print(toys_df2[cols])\n"
   ]
  },
  {
   "cell_type": "code",
   "execution_count": 22,
   "metadata": {
    "collapsed": false
   },
   "outputs": [
    {
     "name": "stdout",
     "output_type": "stream",
     "text": [
      "Index(['created_at', 'description', 'favourites_count', 'followers_count',\n",
      "       'friends_count', 'geo_enabled', 'id_str', 'lang', 'listed_count',\n",
      "       'location', 'name', 'protected', 'screen_name', 'statuses_count',\n",
      "       'time_zone', 'verified'],\n",
      "      dtype='object')\n"
     ]
    }
   ],
   "source": [
    "print(toys_df.columns)\n",
    "\n",
    "\n",
    " # write out as .csv\n",
    "import csv\n",
    "toys_df.to_csv(\"../data/followers_info/jsons/trump0\"+str(i)+\".csv\")"
   ]
  }
 ],
 "metadata": {
  "anaconda-cloud": {},
  "kernelspec": {
   "display_name": "Python [default]",
   "language": "python",
   "name": "python3"
  },
  "language_info": {
   "codemirror_mode": {
    "name": "ipython",
    "version": 3
   },
   "file_extension": ".py",
   "mimetype": "text/x-python",
   "name": "python",
   "nbconvert_exporter": "python",
   "pygments_lexer": "ipython3",
   "version": "3.5.2"
  }
 },
 "nbformat": 4,
 "nbformat_minor": 1
}
