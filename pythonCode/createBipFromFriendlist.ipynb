{
 "cells": [
  {
   "cell_type": "code",
   "execution_count": 6,
   "metadata": {
    "collapsed": false
   },
   "outputs": [],
   "source": [
    "import csv\n",
    "import re\n",
    "\n",
    "class createBipFromFriendlist(object):\n",
    "    \n",
    "    def __init__(self, threshold = 5):\n",
    "        \"\"\"\n",
    "        adjlist type: list[list] first item is follower_id, the rest are the IDs of its friends\n",
    "        rtype : None\n",
    "        \"\"\"\n",
    "        self.adjlist = None\n",
    "        self.friendsCount = None\n",
    "        #self.edgelist = []  #only keep  \n",
    "        #self.reducedAdjlist = []\n",
    "        \n",
    "    def createAdjlist(self, input_file, verbose = True):\n",
    "        \"\"\"\n",
    "        : type input_file: list[str] \n",
    "        a text file name, each row is a string \n",
    "        starting with a screen_name, and a list of id_str's  of his fiends, separated by ','\n",
    "        : rtype : list[list]\n",
    "         remove some rows, with 0 friends or have 'NA' as their friends, which indicates \n",
    "                    downloading unsucessfully\n",
    "        \"\"\"\n",
    "\n",
    "        f = open(input_file, \"r\")\n",
    "        adjlist = []\n",
    "        failed_sn = []\n",
    "        zero_sn = []\n",
    "        #removed those having 0 friends, \n",
    "        #removed those having 'NA' as friends -- did not download friends list sucessfullly,\n",
    "        for line in f:\n",
    "            a = line.split(',')\n",
    "            a =[re.sub(\"\\n\", \"\", x) for x in a]\n",
    "            if len(a) == 1:\n",
    "                zero_sn.append(a[0])\n",
    "            elif len(a) ==2 and a[1] =='NA' :\n",
    "                failed_sn.append(a[0]) \n",
    "            else: \n",
    "                adjlist.append(a)    #adjlist is a list[list]\n",
    "\n",
    "        if verbose:\n",
    "            print (\"success>0: \"+str(len(adjlist)) + \",  failed: \" +str(len(failed_sn))+ \", zeros: \" + str(len(zero_sn)))\n",
    "        self.adjlist = adjlist\n",
    "\n",
    "    def calculateFriendsCount(self, threshold = 1):\n",
    "        \"\"\"\n",
    "        rtype: dict()\n",
    "        key: friend IDs, values, numbers of followers in the graph\n",
    "        keep the friendIds with >= self.threshold followers\n",
    "        \"\"\"\n",
    "        friendsCount = {}\n",
    "        for i in range(len(self.adjlist)):\n",
    "            line = self.adjlist[i]\n",
    "            for id_str in line[1:]:\n",
    "                if id_str in friendsCount.keys():\n",
    "                    friendsCount[id_str] = friendsCount[id_str] +1\n",
    "                else:\n",
    "                    friendsCount[id_str] = 1      \n",
    "                    if len(friendsCount) % 5000000 ==0 :\n",
    "                        print (i, len(friendsCount))\n",
    "        for key in list(friendsCount.keys()):\n",
    "            if friendsCount[key] < threshold:\n",
    "                del friendsCount[key]\n",
    "        self.friendsCount = friendsCount \n",
    "                \n",
    "    def createEdgelist(self, output_file, threshold = 1):\n",
    "        \"\"\"\n",
    "        create the edgelist from the adjlist --  write out directly to save memory&time\n",
    "        type: list[list]\n",
    "        list in side of [a,b] -- edge\n",
    "        total length of outside list == number of edges\n",
    "        \"\"\"\n",
    "        self.calculateFriendsCount(threshold)\n",
    "        with open(output_file,'w') as out:\n",
    "            csv_out=csv.writer(out)\n",
    "            csv_out.writerow(['followers_sn','friends_id_str'])\n",
    "            for line in self.adjlist:\n",
    "                for id_str in line[1:]:\n",
    "                    if id_str in self.friendsCount.keys():\n",
    "                        row = (line[0],id_str)\n",
    "                        csv_out.writerow(row)\n",
    "            \n",
    "   \n",
    "                        \n",
    "\n"
   ]
  },
  {
   "cell_type": "code",
   "execution_count": 7,
   "metadata": {
    "collapsed": false
   },
   "outputs": [
    {
     "name": "stdout",
     "output_type": "stream",
     "text": [
      "success>0: 56371,  failed: 4604, zeros: 53\n",
      "2855 5000000\n",
      "5902 10000000\n",
      "9806 15000000\n",
      "15979 20000000\n",
      "21604 25000000\n",
      "27351 30000000\n",
      "33457 35000000\n",
      "40049 40000000\n",
      "47797 45000000\n",
      "graph1 is done\n"
     ]
    }
   ],
   "source": [
    "import csv\n",
    "import time\n",
    "start_time = time.time()\n",
    "# your code\n",
    "\n",
    "input_file = \"../../data/friends_info/edgelist_Feb27/adjlist_1.txt\"\n",
    "output_file = \"../../data/friends_info/edgelist_Feb27/edgelist_1.csv\" \n",
    "BipGraph = createBipFromFriendlist()\n",
    "BipGraph.createAdjlist(input_file)\n",
    "BipGraph.createEdgelist(output_file, threshold = 10)\n",
    "print(\"graph1 is done\")"
   ]
  },
  {
   "cell_type": "code",
   "execution_count": 8,
   "metadata": {
    "collapsed": false,
    "scrolled": true
   },
   "outputs": [
    {
     "name": "stdout",
     "output_type": "stream",
     "text": [
      "success>0: 105843,  failed: 19147, zeros: 47\n",
      "4661 5000000\n",
      "10825 10000000\n",
      "14643 15000000\n",
      "20136 20000000\n",
      "26844 25000000\n",
      "34246 30000000\n",
      "43985 35000000\n",
      "54296 40000000\n",
      "69169 45000000\n",
      "85659 50000000\n",
      "graph3 is done\n"
     ]
    }
   ],
   "source": [
    "import csv\n",
    "import time\n",
    "start_time = time.time()\n",
    "# your code\n",
    "\n",
    "input_file = \"../../data/friends_info/edgelist_Feb27/adjlist_3.txt\"\n",
    "output_file = \"../../data/friends_info/edgelist_Feb27/edgelist_3.csv\" \n",
    "BipGraph = createBipFromFriendlist()  #clear the previous graph as well\n",
    "BipGraph.createAdjlist(input_file)\n",
    "BipGraph.createEdgelist(output_file, threshold = 10)\n",
    "print(\"graph3 is done\")"
   ]
  },
  {
   "cell_type": "markdown",
   "metadata": {
    "collapsed": true
   },
   "source": [
    "success>0: 105843,  failed: 19147, zeros: 47\n",
    "4661 5000000\n",
    "10825 10000000\n",
    "14643 15000000\n",
    "20136 20000000\n",
    "26844 25000000\n",
    "34246 30000000\n",
    "43985 35000000\n",
    "54296 40000000\n",
    "69169 45000000\n",
    "85659 50000000\n",
    "graph1 is done"
   ]
  },
  {
   "cell_type": "code",
   "execution_count": 9,
   "metadata": {
    "collapsed": false
   },
   "outputs": [
    {
     "name": "stdout",
     "output_type": "stream",
     "text": [
      "success>0: 162824,  failed: 28769, zeros: 151\n",
      "4387 5000000\n",
      "8886 10000000\n",
      "13765 15000000\n",
      "18195 20000000\n",
      "27713 25000000\n",
      "35520 30000000\n",
      "44823 35000000\n",
      "53225 40000000\n",
      "63738 45000000\n",
      "76497 50000000\n",
      "93448 55000000\n",
      "112132 60000000\n",
      "133242 65000000\n",
      "156871 70000000\n",
      "graph2 is done\n"
     ]
    }
   ],
   "source": [
    "import csv\n",
    "import time\n",
    "start_time = time.time()\n",
    "# your code\n",
    "\n",
    "input_file = \"../../data/friends_info/edgelist_Feb27/adjlist_2.txt\"\n",
    "output_file = \"../../data/friends_info/edgelist_Feb27/edgelist_2.csv\" \n",
    "BipGraph = createBipFromFriendlist()\n",
    "BipGraph.createAdjlist(input_file)\n",
    "BipGraph.createEdgelist(output_file, threshold = 10)\n",
    "print(\"graph2 is done\")"
   ]
  },
  {
   "cell_type": "code",
   "execution_count": 10,
   "metadata": {
    "collapsed": false
   },
   "outputs": [],
   "source": [
    "def calculateFriendsCount(adjlist, threshold = 1):\n",
    "    \"\"\"\n",
    "    rtype: dict()\n",
    "    key: friend IDs, values, numbers of followers in the graph\n",
    "    keep the friendIds with >= self.threshold followers\n",
    "    \"\"\"\n",
    "    friendsCount = {}\n",
    "    for i in range(len(adjlist)):\n",
    "        line = adjlist[i]\n",
    "        for id_str in line[1:]:\n",
    "            if id_str in friendsCount.keys():\n",
    "                friendsCount[id_str] = friendsCount[id_str] +1\n",
    "            else:\n",
    "                friendsCount[id_str] = 1      \n",
    "                if len(friendsCount) % 1000000 ==0 :\n",
    "                    print (i, len(friendsCount))\n",
    "                    print(i, id_str)\n",
    "    for key in list(friendsCount.keys()):\n",
    "        if friendsCount[key] < threshold:\n",
    "            del friendsCount[key]\n",
    "    return friendsCount \n",
    "        \n",
    "#followerCount = calculateFriendsCount(BipGraph.adjlist, threshold = 5)\n"
   ]
  },
  {
   "cell_type": "code",
   "execution_count": 11,
   "metadata": {
    "collapsed": false
   },
   "outputs": [],
   "source": [
    " def writeEdgeList_csv(self,output_file):\n",
    "        with open(output_file,'w') as out:\n",
    "            csv_out=csv.writer(out)\n",
    "            csv_out.writerow(['follower_id_str','friends_id_str'])\n",
    "            for row in self.edgelist:\n",
    "                csv_out.writerow(row)\n",
    "\n",
    "def createEdgelist(adjlist, friendsCount, output_file, threshold):\n",
    "    \"\"\"\n",
    "    create the edgelist from the adjlist -- update self.edgelist\n",
    "    type: list[list]\n",
    "    list in side of [a,b] -- edge\n",
    "    total length of outside list == number of edges\n",
    "    \"\"\"\n",
    "    with open(output_file,'w') as out:\n",
    "        csv_out=csv.writer(out)\n",
    "        csv_out.writerow(['row_id','follower_id_str','friends_id_str'])\n",
    "        for line in adjlist:\n",
    "            #a = []\n",
    "            #a.append(line[0])\n",
    "            for id_str in line[1:]:\n",
    "                if id_str in friendsCount.keys():\n",
    "                    row = (line[0],id_str)\n",
    "                    csv_out.writerow(row)\n",
    "\n",
    "#createEdgelist(BipGraph.adjlist, followerCount,  \"edgelist.csv\", 5)"
   ]
  },
  {
   "cell_type": "markdown",
   "metadata": {
    "collapsed": false
   },
   "source": [
    "BipGraph.createEdgelist(threshold = 5)\n",
    "BipGraph.writeEdgeList_csv(output_file)\n",
    "elapsed_time = time.time() - start_time\n",
    "print(elapsed_time)"
   ]
  },
  {
   "cell_type": "code",
   "execution_count": null,
   "metadata": {
    "collapsed": false
   },
   "outputs": [],
   "source": []
  }
 ],
 "metadata": {
  "anaconda-cloud": {},
  "kernelspec": {
   "display_name": "Python [default]",
   "language": "python",
   "name": "python3"
  },
  "language_info": {
   "codemirror_mode": {
    "name": "ipython",
    "version": 3
   },
   "file_extension": ".py",
   "mimetype": "text/x-python",
   "name": "python",
   "nbconvert_exporter": "python",
   "pygments_lexer": "ipython3",
   "version": "3.5.2"
  }
 },
 "nbformat": 4,
 "nbformat_minor": 1
}
