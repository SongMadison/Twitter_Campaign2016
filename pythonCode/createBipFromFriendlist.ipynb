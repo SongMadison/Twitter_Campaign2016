{
 "cells": [
  {
   "cell_type": "code",
   "execution_count": 1,
   "metadata": {
    "collapsed": false
   },
   "outputs": [],
   "source": [
    "import csv\n",
    "import re\n",
    "\n",
    "class createBipFromFriendlist(object):\n",
    "    \n",
    "    def __init__(self, threshold = 5):\n",
    "        \"\"\"\n",
    "        adjlist type: list[list] first item is follower_id, the rest are the IDs of its friends\n",
    "        rtype : None\n",
    "        \"\"\"\n",
    "        self.adjlist = None\n",
    "        self.friendsCount = None\n",
    "        #self.edgelist = []  #only keep  \n",
    "        #self.reducedAdjlist = []\n",
    "        \n",
    "    def createAdjlist(self, input_file, verbose = True):\n",
    "        \"\"\"\n",
    "        : type input_file: list[str] \n",
    "        a text file name, each row is a string \n",
    "        starting with a screen_name, and a list of id_str's  of his fiends, separated by ','\n",
    "        : rtype : list[list]\n",
    "         remove some rows, with 0 friends or have 'NA' as their friends, which indicates \n",
    "                    downloading unsucessfully\n",
    "        \"\"\"\n",
    "\n",
    "        f = open(input_file, \"r\")\n",
    "        adjlist = []\n",
    "        failed_sn = []\n",
    "        zero_sn = []\n",
    "        #removed those having 0 friends, \n",
    "        #removed those having 'NA' as friends -- did not download friends list sucessfullly,\n",
    "        for line in f:\n",
    "            a = line.split(',')\n",
    "            a =[re.sub(\"\\n\", \"\", x) for x in a]\n",
    "            if len(a) == 1:\n",
    "                zero_sn.append(a[0])\n",
    "            elif len(a) ==2 and a[1] =='NA' :\n",
    "                failed_sn.append(a[0]) \n",
    "            else: \n",
    "                adjlist.append(a)    #adjlist is a list[list]\n",
    "\n",
    "        if verbose:\n",
    "            print (\"success>0: \"+str(len(adjlist)) + \",  failed: \" +str(len(failed_sn))+ \", zeros: \" + str(len(zero_sn)))\n",
    "        self.adjlist = adjlist\n",
    "\n",
    "    def calculateFriendsCount(self, threshold = 1):\n",
    "        \"\"\"\n",
    "        rtype: dict()\n",
    "        key: friend IDs, values, numbers of followers in the graph\n",
    "        keep the friendIds with >= self.threshold followers\n",
    "        \"\"\"\n",
    "        friendsCount = {}\n",
    "        for i in range(len(self.adjlist)):\n",
    "            line = self.adjlist[i]\n",
    "            for id_str in line[1:]:\n",
    "                if id_str in friendsCount.keys():\n",
    "                    friendsCount[id_str] = friendsCount[id_str] +1\n",
    "                else:\n",
    "                    friendsCount[id_str] = 1      \n",
    "                    if len(friendsCount) % 5000000 ==0 :\n",
    "                        print (i, len(friendsCount))\n",
    "        for key in list(friendsCount.keys()):\n",
    "            if friendsCount[key] < threshold:\n",
    "                del friendsCount[key]\n",
    "        self.friendsCount = friendsCount \n",
    "                \n",
    "    def createEdgelist(self, output_file, threshold = 1):\n",
    "        \"\"\"\n",
    "        create the edgelist from the adjlist --  write out directly to save memory&time\n",
    "        type: list[list]\n",
    "        list in side of [a,b] -- edge\n",
    "        total length of outside list == number of edges\n",
    "        \"\"\"\n",
    "        self.calculateFriendsCount(threshold)\n",
    "        with open(output_file,'w') as out:\n",
    "            csv_out=csv.writer(out)\n",
    "            csv_out.writerow(['followers_sn','friends_id_str'])\n",
    "            for line in self.adjlist:\n",
    "                for id_str in line[1:]:\n",
    "                    if id_str in self.friendsCount.keys():\n",
    "                        row = (line[0],id_str)\n",
    "                        csv_out.writerow(row)\n",
    "            \n",
    "   \n",
    "                        \n",
    "\n"
   ]
  },
  {
   "cell_type": "code",
   "execution_count": 2,
   "metadata": {
    "collapsed": false
   },
   "outputs": [
    {
     "name": "stdout",
     "output_type": "stream",
     "text": [
      "success>0: 56303,  failed: 4599, zeros: 53\n",
      "2902 5000000\n",
      "5933 10000000\n",
      "10002 15000000\n",
      "16341 20000000\n",
      "21907 25000000\n",
      "27329 30000000\n",
      "33700 35000000\n",
      "40195 40000000\n",
      "48041 45000000\n",
      "graph1 is done\n"
     ]
    },
    {
     "data": {
      "text/plain": [
       "'\\nsuccess>0: 56237,  failed: 4596, zeros: 53\\n2866 5000000\\n5897 10000000\\n9816 15000000\\n15987 20000000\\n21629 25000000\\n27393 30000000\\n33460 35000000\\n40084 40000000\\n47826 45000000\\ngraph1 is done\\n'"
      ]
     },
     "execution_count": 2,
     "metadata": {},
     "output_type": "execute_result"
    }
   ],
   "source": [
    "import csv\n",
    "import time\n",
    "start_time = time.time()\n",
    "# your code\n",
    "\n",
    "input_file = \"../../data/friends_info/edgelist_Feb27/originalData/adjlist_1.txt\"\n",
    "output_file = \"../../data/friends_info/edgelist_Feb27/originalData/edgelist_1.csv\" \n",
    "BipGraph = createBipFromFriendlist()\n",
    "BipGraph.createAdjlist(input_file)\n",
    "BipGraph.createEdgelist(output_file, threshold = 10)\n",
    "print(\"graph1 is done\")\n",
    "'''\n",
    "success>0: 56237,  failed: 4596, zeros: 53\n",
    "2866 5000000\n",
    "5897 10000000\n",
    "9816 15000000\n",
    "15987 20000000\n",
    "21629 25000000\n",
    "27393 30000000\n",
    "33460 35000000\n",
    "40084 40000000\n",
    "47826 45000000\n",
    "graph1 is done\n",
    "'''"
   ]
  },
  {
   "cell_type": "code",
   "execution_count": 3,
   "metadata": {
    "collapsed": false,
    "scrolled": true
   },
   "outputs": [
    {
     "name": "stdout",
     "output_type": "stream",
     "text": [
      "success>0: 105777,  failed: 19136, zeros: 46\n",
      "4664 5000000\n",
      "10760 10000000\n",
      "14607 15000000\n",
      "20060 20000000\n",
      "26770 25000000\n",
      "34256 30000000\n",
      "43989 35000000\n",
      "54171 40000000\n",
      "69099 45000000\n",
      "85527 50000000\n",
      "graph3 is done\n"
     ]
    }
   ],
   "source": [
    "import csv\n",
    "import time\n",
    "start_time = time.time()\n",
    "# your code\n",
    "\n",
    "input_file = \"../../data/friends_info/edgelist_Feb27/originalData/adjlist_3.txt\"\n",
    "output_file = \"../../data/friends_info/edgelist_Feb27/originalData/edgelist_3.csv\" \n",
    "BipGraph = createBipFromFriendlist()  #clear the previous graph as well\n",
    "BipGraph.createAdjlist(input_file)\n",
    "BipGraph.createEdgelist(output_file, threshold = 10)\n",
    "print(\"graph3 is done\")"
   ]
  },
  {
   "cell_type": "markdown",
   "metadata": {
    "collapsed": true
   },
   "source": [
    "success>0: 105843,  failed: 19147, zeros: 47\n",
    "4661 5000000\n",
    "10825 10000000\n",
    "14643 15000000\n",
    "20136 20000000\n",
    "26844 25000000\n",
    "34246 30000000\n",
    "43985 35000000\n",
    "54296 40000000\n",
    "69169 45000000\n",
    "85659 50000000\n",
    "graph1 is done"
   ]
  },
  {
   "cell_type": "code",
   "execution_count": 4,
   "metadata": {
    "collapsed": false
   },
   "outputs": [
    {
     "name": "stdout",
     "output_type": "stream",
     "text": [
      "success>0: 162884,  failed: 28775, zeros: 152\n",
      "4390 5000000\n",
      "8888 10000000\n",
      "13735 15000000\n",
      "18182 20000000\n",
      "27708 25000000\n",
      "35489 30000000\n",
      "44792 35000000\n",
      "53218 40000000\n",
      "63866 45000000\n",
      "76660 50000000\n",
      "93706 55000000\n",
      "112350 60000000\n",
      "133417 65000000\n",
      "156866 70000000\n",
      "graph2 is done\n"
     ]
    }
   ],
   "source": [
    "import csv\n",
    "import time\n",
    "start_time = time.time()\n",
    "# your code\n",
    "\n",
    "input_file = \"../../data/friends_info/edgelist_Feb27/originalData/adjlist_2.txt\"\n",
    "output_file = \"../../data/friends_info/edgelist_Feb27/originalData/edgelist_2.csv\" \n",
    "BipGraph = createBipFromFriendlist()\n",
    "BipGraph.createAdjlist(input_file)\n",
    "BipGraph.createEdgelist(output_file, threshold = 10)\n",
    "print(\"graph2 is done\")"
   ]
  },
  {
   "cell_type": "code",
   "execution_count": 5,
   "metadata": {
    "collapsed": false
   },
   "outputs": [],
   "source": [
    "import csv\n",
    "import time\n",
    "start_time = time.time()\n",
    "# your code\n",
    "\n",
    "input_file = \"../../data/friends_info/edgelist_Feb27/originalData/adjlist_all.txt\"\n",
    "output_file = \"../../data/friends_info/edgelist_Feb27/originalData/edgelist_all.csv\" \n",
    "#BipGraph = createBipFromFriendlist()\n",
    "#BipGraph.createAdjlist(input_file)\n",
    "#BipGraph.createEdgelist(output_file, threshold = 50)\n",
    "#print(\"graph_all is done\")\n",
    "\n",
    "\n",
    "## keep running into memeroy issue"
   ]
  },
  {
   "cell_type": "code",
   "execution_count": 6,
   "metadata": {
    "collapsed": false
   },
   "outputs": [],
   "source": [
    "def calculateFriendsCount(adjlist, threshold = 1):\n",
    "    \"\"\"\n",
    "    rtype: dict()\n",
    "    key: friend IDs, values, numbers of followers in the graph\n",
    "    keep the friendIds with >= self.threshold followers\n",
    "    \"\"\"\n",
    "    friendsCount = {}\n",
    "    for i in range(len(adjlist)):\n",
    "        line = adjlist[i]\n",
    "        for id_str in line[1:]:\n",
    "            if id_str in friendsCount.keys():\n",
    "                friendsCount[id_str] = friendsCount[id_str] +1\n",
    "            else:\n",
    "                friendsCount[id_str] = 1      \n",
    "                if len(friendsCount) % 1000000 ==0 :\n",
    "                    print (i, len(friendsCount))\n",
    "                    print(i, id_str)\n",
    "    for key in list(friendsCount.keys()):\n",
    "        if friendsCount[key] < threshold:\n",
    "            del friendsCount[key]\n",
    "    return friendsCount \n",
    "        \n",
    "#followerCount = calculateFriendsCount(BipGraph.adjlist, threshold = 5)\n"
   ]
  },
  {
   "cell_type": "code",
   "execution_count": 7,
   "metadata": {
    "collapsed": false
   },
   "outputs": [],
   "source": [
    " def writeEdgeList_csv(self,output_file):\n",
    "        with open(output_file,'w') as out:\n",
    "            csv_out=csv.writer(out)\n",
    "            csv_out.writerow(['follower_id_str','friends_id_str'])\n",
    "            for row in self.edgelist:\n",
    "                csv_out.writerow(row)\n",
    "\n",
    "def createEdgelist(adjlist, friendsCount, output_file, threshold):\n",
    "    \"\"\"\n",
    "    create the edgelist from the adjlist -- update self.edgelist\n",
    "    type: list[list]\n",
    "    list in side of [a,b] -- edge\n",
    "    total length of outside list == number of edges\n",
    "    \"\"\"\n",
    "    with open(output_file,'w') as out:\n",
    "        csv_out=csv.writer(out)\n",
    "        csv_out.writerow(['row_id','follower_id_str','friends_id_str'])\n",
    "        for line in adjlist:\n",
    "            #a = []\n",
    "            #a.append(line[0])\n",
    "            for id_str in line[1:]:\n",
    "                if id_str in friendsCount.keys():\n",
    "                    row = (line[0],id_str)\n",
    "                    csv_out.writerow(row)\n",
    "\n",
    "#createEdgelist(BipGraph.adjlist, followerCount,  \"edgelist.csv\", 5)"
   ]
  },
  {
   "cell_type": "markdown",
   "metadata": {
    "collapsed": false
   },
   "source": [
    "BipGraph.createEdgelist(threshold = 5)\n",
    "BipGraph.writeEdgeList_csv(output_file)\n",
    "elapsed_time = time.time() - start_time\n",
    "print(elapsed_time)"
   ]
  },
  {
   "cell_type": "code",
   "execution_count": null,
   "metadata": {
    "collapsed": false
   },
   "outputs": [],
   "source": []
  }
 ],
 "metadata": {
  "anaconda-cloud": {},
  "kernelspec": {
   "display_name": "Python [default]",
   "language": "python",
   "name": "python3"
  },
  "language_info": {
   "codemirror_mode": {
    "name": "ipython",
    "version": 3
   },
   "file_extension": ".py",
   "mimetype": "text/x-python",
   "name": "python",
   "nbconvert_exporter": "python",
   "pygments_lexer": "ipython3",
   "version": "3.5.2"
  }
 },
 "nbformat": 4,
 "nbformat_minor": 1
}
