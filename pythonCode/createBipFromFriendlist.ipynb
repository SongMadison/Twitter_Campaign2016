{
 "cells": [
  {
   "cell_type": "code",
   "execution_count": 35,
   "metadata": {
    "collapsed": false
   },
   "outputs": [],
   "source": [
    "import csv\n",
    "import re\n",
    "\n",
    "class createBipFromFriendlist(object):\n",
    "    \n",
    "    def __init__(self, threshold = 5):\n",
    "        \"\"\"\n",
    "        adjlist type: list[list] first item is follower_id, the rest are the IDs of its friends\n",
    "        rtype : None\n",
    "        \"\"\"\n",
    "        self.adjlist = None\n",
    "        self.friendsCount = None\n",
    "        #self.edgelist = []  #only keep  \n",
    "        #self.reducedAdjlist = []\n",
    "        \n",
    "    def createAdjlist(self, input_file, verbose = True):\n",
    "        \"\"\"\n",
    "        : type input_file: list[str] \n",
    "        a text file name, each row is a string \n",
    "        starting with a screen_name, and a list of id_str's  of his fiends, separated by ','\n",
    "        : rtype : list[list]\n",
    "         remove some rows, with 0 friends or have 'NA' as their friends, which indicates \n",
    "                    downloading unsucessfully\n",
    "        \"\"\"\n",
    "\n",
    "        f = open(input_file, \"r\")\n",
    "        adjlist = []\n",
    "        failed_sn = []\n",
    "        zero_sn = []\n",
    "        #removed those having 0 friends, \n",
    "        #removed those having 'NA' as friends -- did not download friends list sucessfullly,\n",
    "        for line in f:\n",
    "            a = line.split(',')\n",
    "            a =[re.sub(\"\\n\", \"\", x) for x in a]\n",
    "            if len(a) == 1:\n",
    "                zero_sn.append(a[0])\n",
    "            elif len(a) ==2 and a[1] =='NA' :\n",
    "                failed_sn.append(a[0]) \n",
    "            else: \n",
    "                adjlist.append(a)    #adjlist is a list[list]\n",
    "\n",
    "        if verbose:\n",
    "            print (\"success>0: \"+str(len(adjlist)) + \",  failed: \" +str(len(failed_sn))+ \", zeros: \" + str(len(zero_sn)))\n",
    "        self.adjlist = adjlist\n",
    "\n",
    "    def calculateFriendsCount(self, threshold = 1):\n",
    "        \"\"\"\n",
    "        rtype: dict()\n",
    "        key: friend IDs, values, numbers of followers in the graph\n",
    "        keep the friendIds with >= self.threshold followers\n",
    "        \"\"\"\n",
    "        friendsCount = {}\n",
    "        for i in range(len(self.adjlist)):\n",
    "            line = self.adjlist[i]\n",
    "            for id_str in line[1:]:\n",
    "                if id_str in friendsCount.keys():\n",
    "                    friendsCount[id_str] = friendsCount[id_str] +1\n",
    "                else:\n",
    "                    friendsCount[id_str] = 1      \n",
    "                    if len(friendsCount) % 1000000 ==0 :\n",
    "                        print (i, len(friendsCount))\n",
    "        for key in list(friendsCount.keys()):\n",
    "            if friendsCount[key] < threshold:\n",
    "                del friendsCount[key]\n",
    "        self.friendsCount = friendsCount \n",
    "                \n",
    "    def createEdgelist(self, output_file, threshold = 1):\n",
    "        \"\"\"\n",
    "        create the edgelist from the adjlist --  write out directly to save memory&time\n",
    "        type: list[list]\n",
    "        list in side of [a,b] -- edge\n",
    "        total length of outside list == number of edges\n",
    "        \"\"\"\n",
    "        self.calculateFriendsCount(threshold)\n",
    "        with open(output_file,'w') as out:\n",
    "            csv_out=csv.writer(out)\n",
    "            csv_out.writerow(['row_id','follower_id_str','friends_id_str'])\n",
    "            for line in self.adjlist:\n",
    "                for id_str in line[1:]:\n",
    "                    if id_str in self.friendsCount.keys():\n",
    "                        row = (line[0],id_str)\n",
    "                        csv_out.writerow(row)\n",
    "            \n",
    "   \n",
    "                        \n",
    "\n"
   ]
  },
  {
   "cell_type": "code",
   "execution_count": null,
   "metadata": {
    "collapsed": true
   },
   "outputs": [],
   "source": [
    "import csv\n",
    "import time\n",
    "start_time = time.time()\n",
    "# your code\n",
    "\n",
    "input_file = \"../edgelist_Feb27/2.txt\"\n",
    "output_file = \"../edgelist_Feb27/edgelist_2.csv\"\n",
    "BipGraph = createBipFromFriendlist()\n",
    "BipGraph.createAdjlist(input_file)"
   ]
  },
  {
   "cell_type": "code",
   "execution_count": 38,
   "metadata": {
    "collapsed": false
   },
   "outputs": [
    {
     "name": "stdout",
     "output_type": "stream",
     "text": [
      "493 1000000\n",
      "1179 2000000\n",
      "2071 3000000\n",
      "2946 4000000\n",
      "4107 5000000\n",
      "5254 6000000\n",
      "6332 7000000\n",
      "7634 8000000\n",
      "8960 9000000\n",
      "10606 10000000\n",
      "12188 11000000\n",
      "13692 12000000\n",
      "15403 13000000\n",
      "17100 14000000\n",
      "19009 15000000\n",
      "21021 16000000\n",
      "23116 17000000\n",
      "25201 18000000\n",
      "27454 19000000\n",
      "29783 20000000\n",
      "32441 21000000\n",
      "34975 22000000\n",
      "37567 23000000\n",
      "40496 24000000\n",
      "43470 25000000\n",
      "46645 26000000\n",
      "49825 27000000\n",
      "53228 28000000\n"
     ]
    }
   ],
   "source": [
    "BipGraph.createEdgelist(output_file, threshold = 5)"
   ]
  },
  {
   "cell_type": "code",
   "execution_count": 39,
   "metadata": {
    "collapsed": false
   },
   "outputs": [
    {
     "name": "stdout",
     "output_type": "stream",
     "text": [
      "success>0: 48958,  failed: 12018, zeros: 24\n",
      "874 1000000\n",
      "2051 2000000\n",
      "3409 3000000\n",
      "5088 4000000\n",
      "6657 5000000\n",
      "8469 6000000\n",
      "10394 7000000\n",
      "12324 8000000\n",
      "14379 9000000\n",
      "16802 10000000\n",
      "19119 11000000\n",
      "21515 12000000\n",
      "24083 13000000\n",
      "26853 14000000\n",
      "29672 15000000\n",
      "32731 16000000\n",
      "36069 17000000\n",
      "39317 18000000\n",
      "42682 19000000\n",
      "46226 20000000\n"
     ]
    }
   ],
   "source": [
    "import csv\n",
    "import time\n",
    "start_time = time.time()\n",
    "# your code\n",
    "\n",
    "input_file = \"../edgelist_Feb27/3.txt\"\n",
    "output_file = \"../edgelist_Feb27/edgelist_3.csv\"\n",
    "BipGraph = createBipFromFriendlist()\n",
    "BipGraph.createAdjlist(input_file)\n",
    "BipGraph.createEdgelist(output_file, threshold = 5)"
   ]
  },
  {
   "cell_type": "code",
   "execution_count": 12,
   "metadata": {
    "collapsed": false
   },
   "outputs": [
    {
     "name": "stdout",
     "output_type": "stream",
     "text": [
      "success>0: 52607,  failed: 9130, zeros: 61\n"
     ]
    }
   ],
   "source": [
    "BipGraph.cleanAdjlist(input_file)"
   ]
  },
  {
   "cell_type": "code",
   "execution_count": 16,
   "metadata": {
    "collapsed": false
   },
   "outputs": [
    {
     "name": "stdout",
     "output_type": "stream",
     "text": [
      "131 1000000\n",
      "131 393816869\n",
      "198 2000000\n",
      "198 24921751\n",
      "295 3000000\n",
      "295 265577870\n",
      "460 4000000\n",
      "460 41027920\n",
      "863 5000000\n",
      "863 3415034775\n",
      "1360 6000000\n",
      "1360 3010518371\n",
      "1869 7000000\n",
      "1869 2364755330\n",
      "2425 8000000\n",
      "2425 1454413304\n",
      "2663 9000000\n",
      "2663 123349561\n",
      "2926 10000000\n",
      "2926 101973739\n",
      "3174 11000000\n",
      "3174 3309451860\n",
      "3587 12000000\n",
      "3587 553207180\n",
      "3946 13000000\n",
      "3946 294005706\n",
      "4319 14000000\n",
      "4319 79532591\n",
      "4674 15000000\n",
      "4674 413842504\n",
      "4994 16000000\n",
      "4994 521634059\n",
      "5267 17000000\n",
      "5267 489212364\n",
      "5631 18000000\n",
      "5631 103565249\n",
      "5975 19000000\n",
      "5975 573905033\n",
      "6371 20000000\n",
      "6371 3485922380\n",
      "6850 21000000\n",
      "6850 36407822\n",
      "7327 22000000\n",
      "7327 2600603707\n",
      "7715 23000000\n",
      "7715 542383330\n",
      "8244 24000000\n",
      "8244 713178252714622980\n",
      "8668 25000000\n",
      "8668 821575237\n",
      "9363 26000000\n",
      "9363 580450413\n",
      "9847 27000000\n",
      "9847 3787921693\n",
      "10503 28000000\n",
      "10503 212130994\n",
      "11154 29000000\n",
      "11154 711969720724037632\n",
      "11724 30000000\n",
      "11724 4832247101\n",
      "12475 31000000\n",
      "12475 1395370890\n",
      "13202 32000000\n",
      "13202 231168093\n",
      "14207 33000000\n",
      "14207 1483524625\n",
      "14987 34000000\n",
      "14987 122900440\n",
      "16056 35000000\n",
      "16056 78716838\n",
      "16790 36000000\n",
      "16790 593039987\n",
      "17896 37000000\n",
      "17896 937682714\n",
      "19070 38000000\n",
      "19070 4867272142\n",
      "20416 39000000\n",
      "20416 222162804\n",
      "21596 40000000\n",
      "21596 573243078\n",
      "22989 41000000\n",
      "22989 1376725706\n",
      "24224 42000000\n",
      "24224 2999487095\n",
      "25299 43000000\n",
      "25299 835098355\n",
      "26956 44000000\n",
      "26956 294857020\n",
      "28781 45000000\n",
      "28781 4633949728\n",
      "30707 46000000\n",
      "30707 3886055069\n",
      "32843 47000000\n",
      "32843 303359651\n",
      "34505 48000000\n",
      "34505 46082066\n",
      "36437 49000000\n",
      "36437 783792505\n",
      "38496 50000000\n",
      "38496 744950851941240832\n",
      "40895 51000000\n",
      "40895 624529693\n",
      "43600 52000000\n",
      "43600 217569503\n",
      "46272 53000000\n",
      "46272 2388819780\n",
      "49463 54000000\n",
      "49463 901064198\n"
     ]
    }
   ],
   "source": [
    "def calculateFriendsCount(adjlist, threshold = 1):\n",
    "    \"\"\"\n",
    "    rtype: dict()\n",
    "    key: friend IDs, values, numbers of followers in the graph\n",
    "    keep the friendIds with >= self.threshold followers\n",
    "    \"\"\"\n",
    "    friendsCount = {}\n",
    "    for i in range(len(adjlist)):\n",
    "        line = adjlist[i]\n",
    "        for id_str in line[1:]:\n",
    "            if id_str in friendsCount.keys():\n",
    "                friendsCount[id_str] = friendsCount[id_str] +1\n",
    "            else:\n",
    "                friendsCount[id_str] = 1      \n",
    "                if len(friendsCount) % 1000000 ==0 :\n",
    "                    print (i, len(friendsCount))\n",
    "                    print(i, id_str)\n",
    "    for key in list(friendsCount.keys()):\n",
    "        if friendsCount[key] < threshold:\n",
    "            del friendsCount[key]\n",
    "    return friendsCount \n",
    "        \n",
    "followerCount = calculateFriendsCount(BipGraph.adjlist, threshold = 5)\n"
   ]
  },
  {
   "cell_type": "code",
   "execution_count": 22,
   "metadata": {
    "collapsed": false
   },
   "outputs": [],
   "source": [
    "len(followerCount)\n",
    "sum(followerCount.values())\n",
    "with open('follower_counts.txt', 'w') as out:\n",
    "    csv_out=csv.writer(out)\n",
    "    for row in followerCount:\n",
    "        csv_out.writerow(row)"
   ]
  },
  {
   "cell_type": "code",
   "execution_count": 34,
   "metadata": {
    "collapsed": false
   },
   "outputs": [],
   "source": [
    " def writeEdgeList_csv(self,output_file):\n",
    "        with open(output_file,'w') as out:\n",
    "            csv_out=csv.writer(out)\n",
    "            csv_out.writerow(['row_id','follower_id_str','friends_id_str'])\n",
    "            for row in self.edgelist:\n",
    "                csv_out.writerow(row)\n",
    "\n",
    "def createEdgelist(adjlist, friendsCount, output_file, threshold):\n",
    "    \"\"\"\n",
    "    create the edgelist from the adjlist -- update self.edgelist\n",
    "    type: list[list]\n",
    "    list in side of [a,b] -- edge\n",
    "    total length of outside list == number of edges\n",
    "    \"\"\"\n",
    "    with open(output_file,'w') as out:\n",
    "        csv_out=csv.writer(out)\n",
    "        csv_out.writerow(['row_id','follower_id_str','friends_id_str'])\n",
    "        for line in adjlist:\n",
    "            #a = []\n",
    "            #a.append(line[0])\n",
    "            for id_str in line[1:]:\n",
    "                if id_str in friendsCount.keys():\n",
    "                    row = (line[0],id_str)\n",
    "                    csv_out.writerow(row)\n",
    "\n",
    "createEdgelist(BipGraph.adjlist, followerCount,  \"edgelist.csv\", 5)"
   ]
  },
  {
   "cell_type": "code",
   "execution_count": null,
   "metadata": {
    "collapsed": false
   },
   "outputs": [],
   "source": [
    "BipGraph.createEdgelist(threshold = 5)\n",
    "BipGraph.writeEdgeList_csv(output_file)\n",
    "elapsed_time = time.time() - start_time\n",
    "print(elapsed_time)"
   ]
  },
  {
   "cell_type": "code",
   "execution_count": 29,
   "metadata": {
    "collapsed": false
   },
   "outputs": [
    {
     "ename": "NameError",
     "evalue": "name 'edgelist1' is not defined",
     "output_type": "error",
     "traceback": [
      "\u001b[0;31m---------------------------------------------------------------------------\u001b[0m",
      "\u001b[0;31mNameError\u001b[0m                                 Traceback (most recent call last)",
      "\u001b[0;32m<ipython-input-29-f3a2db4b8f98>\u001b[0m in \u001b[0;36m<module>\u001b[0;34m()\u001b[0m\n\u001b[0;32m----> 1\u001b[0;31m \u001b[0mlen\u001b[0m\u001b[0;34m(\u001b[0m\u001b[0medgelist1\u001b[0m\u001b[0;34m)\u001b[0m\u001b[0;34m\u001b[0m\u001b[0m\n\u001b[0m",
      "\u001b[0;31mNameError\u001b[0m: name 'edgelist1' is not defined"
     ]
    }
   ],
   "source": [
    "len(edgelist1)"
   ]
  },
  {
   "cell_type": "code",
   "execution_count": null,
   "metadata": {
    "collapsed": false
   },
   "outputs": [],
   "source": []
  }
 ],
 "metadata": {
  "anaconda-cloud": {},
  "kernelspec": {
   "display_name": "Python [default]",
   "language": "python",
   "name": "python3"
  },
  "language_info": {
   "codemirror_mode": {
    "name": "ipython",
    "version": 3
   },
   "file_extension": ".py",
   "mimetype": "text/x-python",
   "name": "python",
   "nbconvert_exporter": "python",
   "pygments_lexer": "ipython3",
   "version": "3.5.2"
  }
 },
 "nbformat": 4,
 "nbformat_minor": 1
}
