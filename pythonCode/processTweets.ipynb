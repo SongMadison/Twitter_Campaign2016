{
 "cells": [
  {
   "cell_type": "code",
   "execution_count": 2,
   "metadata": {
    "collapsed": false,
    "scrolled": true
   },
   "outputs": [],
   "source": [
    "import pandas as pd\n",
    "from os import listdir\n",
    "from os.path import isfile, join\n",
    "\n",
    "\n",
    "def mergeTweets (input_folder, selected_cols):\n",
    "    files = [f for f in listdir(input_folder) if isfile(join(input_folder, f))] # can exclude non-files\n",
    "    files.sort()\n",
    "    #files = files[:3]\n",
    "    result = None\n",
    "    for f in files:\n",
    "        input_file = join(input_folder, f)\n",
    "        df = pd.read_csv(input_file, dtype=str, index_col=None)\n",
    "        df = df.loc[:,selected_cols]\n",
    "        result = pd.concat([result,df])\n",
    "        #print(input_file)\n",
    "    result.index = range(len(result))    \n",
    "    return result    \n"
   ]
  },
  {
   "cell_type": "code",
   "execution_count": 3,
   "metadata": {
    "collapsed": false
   },
   "outputs": [
    {
     "name": "stdout",
     "output_type": "stream",
     "text": [
      "t01_part1 is done.\n"
     ]
    }
   ],
   "source": [
    "folders = listdir(\"../../data/friends_info/edgelist_Feb27/timelines_csv/\")\n",
    "folders.sort()\n",
    "selected_cols = [\"user_id_str\",\"id_str\",\"created_at\", \"text\"]\n",
    "\n",
    "for ff in folders[:1]:\n",
    "    input_folder = join(\"../../data/friends_info/edgelist_Feb27/timelines_csv/\", ff)\n",
    "    output_file = \"../../data/friends_info/edgelist_Feb27/timelines_csv_simplified/\"+ff+\".csv\"\n",
    "    result = mergeTweets(input_folder, selected_cols)\n",
    "    result.to_csv(output_file, index = False) \n",
    "    print(ff+\" is done.\")\n",
    "\n"
   ]
  },
  {
   "cell_type": "code",
   "execution_count": null,
   "metadata": {
    "collapsed": true
   },
   "outputs": [],
   "source": [
    "t01_part1 is done.\n",
    "t01_part2 is done.\n",
    "t01_part3 is done.\n",
    "t01_part4 is done.\n",
    "t02_part1 is done.\n",
    "t02_part2 is done.\n",
    "t02_part3 is done.\n",
    "t02_part4 is done.\n",
    "t03_part1 is done.\n",
    "t03_part2 is done.\n",
    "t03_part3 is done.\n",
    "t03_part4 is done.\n",
    "t04_part1 is done.\n",
    "t04_part2 is done.\n",
    "t04_part3 is done.\n",
    "t04_part4 is done.\n",
    "t05_part1 is done.\n",
    "t05_part2 is done.\n",
    "t05_part3 is done.\n",
    "t05_part4 is done.\n",
    "t06_part1 is done.\n",
    "t06_part2 is done.\n",
    "t06_part3 is done.\n",
    "t06_part4 is done.\n",
    "t07_part1 is done.\n",
    "t07_part2 is done.\n",
    "t07_part3 is done.\n",
    "t07_part4 is done.\n",
    "t08_part1 is done.\n",
    "t08_part2 is done.\n",
    "t08_part3 is done.\n",
    "t08_part4 is done\n",
    "t09_part1 is done.\n",
    "t09_part2 is done.\n",
    "t09_part3 is done.\n",
    "t09_part4 is done.\n",
    "t10_part1 is done.\n",
    "t10_part2 is done.\n",
    "t10_part3 is done.\n",
    "t10_part4 is done.\n",
    "t11_part1 is done.\n",
    "t11_part2 is done.\n",
    "t11_part3 is done.\n",
    "t11_part4 is done.\n",
    "t12_part1 is done.\n",
    "t12_part2 is done.\n",
    "t12_part3 is done.\n",
    "t12_part4 is done.\n",
    "t13_part1 is done.\n",
    "t13_part2 is done.\n",
    "t13_part3 is done.\n",
    "t13_part4 is done.\n",
    "t14_part1 is done.\n",
    "t14_part2 is done.\n",
    "t14_part3 is done.\n",
    "t14_part4 is done."
   ]
  },
  {
   "cell_type": "code",
   "execution_count": 44,
   "metadata": {
    "collapsed": false
   },
   "outputs": [
    {
     "name": "stdout",
     "output_type": "stream",
     "text": [
      "(109463, 23)\n",
      "109463\n",
      "Index(['created_at', 'id_str', 'text', 'truncated', 'source',\n",
      "       'in_reply_to_status_id_str', 'in_reply_to_user_id_str',\n",
      "       'quoted_status_created_at', 'quoted_status_id_str',\n",
      "       'quoted_status_text', 'quoted_status_user_id_str',\n",
      "       'retweet_status_id_str', 'retweet_status_created_at',\n",
      "       'retweet_status_text', 'retweet_status_user_id_str', 'user_id_str',\n",
      "       'place_name', 'place_country', 'retweet_count', 'favorite_count',\n",
      "       'favorited', 'retweeted', 'lang'],\n",
      "      dtype='object')\n",
      "RangeIndex(start=0, stop=10, step=1)\n"
     ]
    }
   ],
   "source": [
    "#some tutorials \n",
    "files = listdir(input_folder)\n",
    "isfile(join(input_folder, files[0]))\n",
    "\n",
    "df1 = pd.read_csv(input_file)\n",
    "# these are property of the dataframe\n",
    "print(df.shape)\n",
    "print(len(df.index)) \n",
    "print(df.columns)\n",
    "print(df.index[:10])"
   ]
  },
  {
   "cell_type": "code",
   "execution_count": 45,
   "metadata": {
    "collapsed": true
   },
   "outputs": [],
   "source": [
    "\n",
    "#df2.to_csv(\"../../data/friends_info/edgelist_Feb27/timelines_csv/t01_part2/001_00.csv\")"
   ]
  },
  {
   "cell_type": "code",
   "execution_count": 42,
   "metadata": {
    "collapsed": false
   },
   "outputs": [],
   "source": [
    "selected_cols = [\"user_id_str\",\"id_str\",\"created_at\", \"text\"]\n",
    "df1 = df.loc[:,selected_cols]\n",
    "#df1.to_csv(\"../../data/friends_info/edgelist_Feb27/timelines_csv/t01_part2/001_00.csv\")"
   ]
  },
  {
   "cell_type": "code",
   "execution_count": 49,
   "metadata": {
    "collapsed": false
   },
   "outputs": [
    {
     "name": "stdout",
     "output_type": "stream",
     "text": [
      "(212780, 4)\n"
     ]
    }
   ],
   "source": [
    "#print(df1.iloc[:10,:])\n",
    "#print(df2.iloc[:10,:])\n",
    "df3 = pd.concat([df1, df2])\n",
    "print(df3.shape)"
   ]
  },
  {
   "cell_type": "code",
   "execution_count": 51,
   "metadata": {
    "collapsed": false
   },
   "outputs": [],
   "source": [
    "df4 =None\n",
    "df5 = pd.concat([df3,df4])"
   ]
  }
 ],
 "metadata": {
  "anaconda-cloud": {},
  "kernelspec": {
   "display_name": "Python [default]",
   "language": "python",
   "name": "python3"
  },
  "language_info": {
   "codemirror_mode": {
    "name": "ipython",
    "version": 3
   },
   "file_extension": ".py",
   "mimetype": "text/x-python",
   "name": "python",
   "nbconvert_exporter": "python",
   "pygments_lexer": "ipython3",
   "version": "3.5.2"
  }
 },
 "nbformat": 4,
 "nbformat_minor": 1
}
