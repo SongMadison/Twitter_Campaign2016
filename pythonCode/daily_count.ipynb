{
 "cells": [
  {
   "cell_type": "code",
   "execution_count": 5,
   "metadata": {
    "collapsed": true
   },
   "outputs": [],
   "source": [
    "import pandas as pd\n",
    "import numpy as np\n",
    "from os import listdir\n",
    "from os.path import isfile, join\n",
    "import datetime"
   ]
  },
  {
   "cell_type": "code",
   "execution_count": 6,
   "metadata": {
    "collapsed": false
   },
   "outputs": [
    {
     "name": "stdout",
     "output_type": "stream",
     "text": [
      "(20763028, 3) 2:15:16.032125\n",
      "(6937763, 3) 0:19:59.505632\n",
      "(6488964, 3) 0:18:43.787227\n",
      "(7908729, 3) 0:55:48.101163\n",
      "(20862130, 3) 1:35:00.982112\n",
      "(6813561, 3) 0:19:23.803599\n",
      "(6483174, 3) 0:17:58.540083\n",
      "(9044615, 3) 0:28:47.501839\n",
      "(20548449, 3) 2:08:11.261039\n",
      "(1229440, 3) 0:02:59.638397\n",
      "(6286261, 3) 0:18:59.264492\n",
      "(6128453, 3) 0:18:15.505049\n",
      "(20761553, 3) 3:37:06.344653\n",
      "(6067714, 3) 0:16:52.126289\n",
      "(6513950, 3) 0:18:20.417579\n",
      "(8332813, 3) 0:25:18.325976\n"
     ]
    }
   ],
   "source": [
    "files = listdir(\"../../data/friends_info/edgelist_Feb27/timelines_csv_simplified/\")\n",
    "files.sort()\n",
    "for f in files[40:]:\n",
    "    #f = files[2]\n",
    "    input_file = join(\"../../data/friends_info/edgelist_Feb27/timelines_csv_simplified/\", f)\n",
    "    tws = pd.read_csv(input_file, dtype =str, index_col = 0) #first column is ids\n",
    "    tws = tws.loc[:,['user_id_str','created_at']]\n",
    "    tws['created_at'] = pd.to_datetime(tws['created_at'])\n",
    "    #tws = tws[:100000]\n",
    "\n",
    "    t1 =  datetime.datetime.now()\n",
    "    #loop through the file, count of tweets based on key (user_id, date)\n",
    "    all_users = {}\n",
    "    for i in range(len(tws)):\n",
    "        (u,k) = tws.iloc[i]\n",
    "        if u in all_users:\n",
    "            if k in all_users[u]:\n",
    "                all_users[u][k] += 1\n",
    "            else:\n",
    "                all_users[u][k] =1\n",
    "        else:\n",
    "            all_users[u] = {}\n",
    "            all_users[u][k] = 1\n",
    "\n",
    "    #convert dictionary to dataframe      \n",
    "    all_users_df = None\n",
    "    for u in all_users:\n",
    "        aa = all_users[u]\n",
    "        df = pd.DataFrame.from_dict(aa, orient='index')\n",
    "        df['user_id_str'] =  u\n",
    "        df['created_date'] = df.index\n",
    "        df['count'] = df.iloc[:,0]\n",
    "        df = df.loc[:,[\"user_id_str\",\"created_date\",\"count\"]]\n",
    "        all_users_df = pd.concat([all_users_df,df])\n",
    "\n",
    "    #output as csv file\n",
    "    print (all_users_df.shape, datetime.datetime.now()- t1)\n",
    "    all_users_df.to_csv(\"../../data/friends_info/edgelist_Feb27/timelines_csv_dailycounts/\"+f, index = False)\n"
   ]
  },
  {
   "cell_type": "markdown",
   "metadata": {},
   "source": [
    "(21694513, 3) 1:36:55.629764\n",
    "(15097213, 3) 0:48:59.408853\n",
    "(6452982, 3) 0:17:53.736499\n",
    "(9546928, 3) 0:28:06.140310\n",
    "(21643119, 3) 2:19:57.051972\n",
    "(11961926, 3) 0:38:24.435321\n",
    "(6803071, 3) 0:18:58.295358\n",
    "(10005995, 3) 0:32:05.601982\n",
    "(21522434, 3) 1:41:54.492435\n",
    "(10688574, 3) 0:33:26.242809\n",
    "(6623213, 3) 0:18:57.973948\n",
    "(10693727, 3) 0:33:43.986405\n",
    "(21531639, 3) 1:58:56.072986\n",
    "(9743038, 3) 0:30:10.711152\n",
    "(6557981, 3) 0:18:24.914829\n",
    "(8842703, 3) 0:27:33.965460\n",
    "(20068471, 3) 1:24:07.050392\n",
    "(9826537, 3) 0:30:31.990840\n",
    "(6509152, 3) 0:18:19.693218\n",
    "(8931087, 3) 0:27:46.858955\n",
    "(20853348, 3) 1:42:03.873835\n",
    "(9014917, 3) 0:27:52.030106\n",
    "(6523065, 3) 0:17:58.717527\n",
    "(10548415, 3) 0:33:14.580516\n",
    "(20750403, 3) 1:50:00.331255\n",
    "(8160476, 3) 0:24:20.648581\n",
    "(6721125, 3) 0:18:52.838754\n",
    "(10666386, 3) 0:35:15.997349\n",
    "(20770939, 3) 1:31:07.447612\n",
    "(8045516, 3) 0:23:57.362895\n",
    "(6435039, 3) 0:17:11.658688\n",
    "(9630057, 3) 0:28:53.094191\n",
    "(20758382, 3) 1:56:51.094760\n",
    "(7575699, 3) 0:21:44.171408\n",
    "(6584513, 3) 0:18:04.880839\n",
    "(9541177, 3) 0:28:36.493129\n",
    "(20758192, 3) 1:33:58.257131\n",
    "(7367014, 3) 0:22:10.300526\n",
    "(6514634, 3) 0:17:15.588608\n",
    "(7238889, 3) 0:20:10.855083\n",
    "---\n",
    "(20763028, 3) 2:15:16.032125\n",
    "(6937763, 3) 0:19:59.505632\n",
    "(6488964, 3) 0:18:43.787227\n",
    "(7908729, 3) 0:55:48.101163\n",
    "(20862130, 3) 1:35:00.982112\n",
    "(6813561, 3) 0:19:23.803599\n",
    "(6483174, 3) 0:17:58.540083\n",
    "(9044615, 3) 0:28:47.501839\n",
    "(20548449, 3) 2:08:11.261039\n",
    "(1229440, 3) 0:02:59.638397\n",
    "(6286261, 3) 0:18:59.264492\n",
    "(6128453, 3) 0:18:15.505049\n",
    "(20761553, 3) 3:37:06.344653\n",
    "(6067714, 3) 0:16:52.126289\n",
    "(6513950, 3) 0:18:20.417579\n",
    "(8332813, 3) 0:25:18.325976\n"
   ]
  }
 ],
 "metadata": {
  "anaconda-cloud": {},
  "kernelspec": {
   "display_name": "Python [default]",
   "language": "python",
   "name": "python3"
  },
  "language_info": {
   "codemirror_mode": {
    "name": "ipython",
    "version": 3
   },
   "file_extension": ".py",
   "mimetype": "text/x-python",
   "name": "python",
   "nbconvert_exporter": "python",
   "pygments_lexer": "ipython3",
   "version": "3.5.2"
  }
 },
 "nbformat": 4,
 "nbformat_minor": 1
}
