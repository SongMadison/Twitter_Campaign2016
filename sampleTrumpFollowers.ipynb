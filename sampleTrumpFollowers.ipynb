{
 "cells": [
  {
   "cell_type": "code",
   "execution_count": 10,
   "metadata": {
    "collapsed": false
   },
   "outputs": [
    {
     "name": "stdout",
     "output_type": "stream",
     "text": [
      "10\n"
     ]
    },
    {
     "data": {
      "text/plain": [
       "{'contributors_enabled': [False],\n",
       " 'created_at': ['Wed Aug 31 01:01:00 +0000 2016'],\n",
       " 'default_profile': [True],\n",
       " 'default_profile_image': [True],\n",
       " 'description': [''],\n",
       " 'entities': {'description': {'urls': []}},\n",
       " 'favourites_count': [0],\n",
       " 'follow_request_sent': [False],\n",
       " 'followers_count': [3],\n",
       " 'following': [False],\n",
       " 'friends_count': [19],\n",
       " 'geo_enabled': [False],\n",
       " 'has_extended_profile': [False],\n",
       " 'id': [7.70788443609829e+17],\n",
       " 'id_str': ['770788443609829376'],\n",
       " 'is_translation_enabled': [False],\n",
       " 'is_translator': [False],\n",
       " 'lang': ['ru'],\n",
       " 'listed_count': [0],\n",
       " 'location': [''],\n",
       " 'name': ['Анастасия Антонова'],\n",
       " 'notifications': [False],\n",
       " 'profile_background_color': ['F5F8FA'],\n",
       " 'profile_background_image_url': {},\n",
       " 'profile_background_image_url_https': {},\n",
       " 'profile_background_tile': [False],\n",
       " 'profile_image_url': ['http://abs.twimg.com/sticky/default_profile_images/default_profile_4_normal.png'],\n",
       " 'profile_image_url_https': ['https://abs.twimg.com/sticky/default_profile_images/default_profile_4_normal.png'],\n",
       " 'profile_link_color': ['2B7BB9'],\n",
       " 'profile_sidebar_border_color': ['C0DEED'],\n",
       " 'profile_sidebar_fill_color': ['DDEEF6'],\n",
       " 'profile_text_color': ['333333'],\n",
       " 'profile_use_background_image': [True],\n",
       " 'protected': [False],\n",
       " 'screen_name': ['dyachkovalyuci6'],\n",
       " 'statuses_count': [0],\n",
       " 'time_zone': {},\n",
       " 'url': {},\n",
       " 'utc_offset': {},\n",
       " 'verified': [False]}"
      ]
     },
     "execution_count": 10,
     "metadata": {},
     "output_type": "execute_result"
    }
   ],
   "source": [
    "import json\n",
    "import pandas as pd#toy experiment\n",
    "path =\"../data/followers_info/followers10.json\"\n",
    "toys = [json.loads(line) for line in open(path)]  # list, in the memory\n",
    "print(len(toys))\n",
    "\n",
    "id_str = []\n",
    "followers_count = []\n",
    "screen_name = []\n",
    "protected = []\n",
    "i = 0\n",
    "for item in toys:\n",
    "    id_str.extend(item['id_str'])\n",
    "    followers_count.extend(item['followers_count'])\n",
    "    screen_name.extend(item['screen_name'])\n",
    "    protected.extend(item['protected'])\n",
    "    i +=1\n",
    "    #print(i)\n",
    "data = {'id_str' : pd.Series(id_str), \n",
    "        'screen_name' : pd.Series(screen_name),\n",
    "        'followers_count' : pd.Series(followers_count),\n",
    "        'protected' : pd.Series(protected)\n",
    "       }\n",
    "df =pd.DataFrame(data) \n",
    "toys[1]"
   ]
  },
  {
   "cell_type": "code",
   "execution_count": 2,
   "metadata": {
    "collapsed": false,
    "scrolled": false
   },
   "outputs": [],
   "source": [
    "import json\n",
    "import pandas as pd #toy experiment\n",
    "path =\"../data/followers_info/followers10.json\"\n",
    "toys = [json.loads(line) for line in open(path)]  # list, in the memory\n",
    "cols = ['id_str', 'screen_name', 'name','created_at', 'description', \n",
    "        'location', 'time_zone',  'favourites_count','followers_count',  'friends_count',\n",
    "        'lang', 'listed_count' ,'statuses_count', 'geo_enabled', 'protected' ,'verified']    \n",
    "\n",
    "def json2dataframe(json_list, cols):\n",
    "    for c in cols:\n",
    "        data[c] = []\n",
    "    for item in json_list:\n",
    "        for c in cols:\n",
    "            if item[c] =={} or c not in item:\n",
    "                data[c].extend([''])\n",
    "            else:\n",
    "                data[c].extend(item[c])\n",
    "    data_df = pd.DataFrame.from_dict(data)  \n",
    "    return data_df\n",
    "\n",
    "    #print(data['time_zone'])    \n",
    "    #print(newcol)   \n",
    "\n",
    "toys_df = json2dataframe(toys, cols)\n",
    "#toys_df\n",
    "data0 = pd.DataFrame()\n",
    "#data0 = [data0, toys_df]\n",
    "#pd.concat(data0) # concatenate multiple dataframe together"
   ]
  },
  {
   "cell_type": "code",
   "execution_count": 5,
   "metadata": {
    "collapsed": false
   },
   "outputs": [
    {
     "name": "stdout",
     "output_type": "stream",
     "text": [
      "True\n",
      "['']\n",
      "{}\n",
      "True\n",
      "['']\n",
      "{}\n",
      "True\n",
      "['']\n",
      "{}\n",
      "True\n",
      "['']\n",
      "{}\n",
      "False\n",
      "['I am very much friendly and jovial and have a never-say-die attitude......']\n",
      "['Kolkata']\n",
      "True\n",
      "['ACHS Freshman']\n",
      "{}\n",
      "True\n",
      "[\"Love taking pictures❤\\nSingle\\nFun\\nLove shopping even when I'm broke...\"]\n",
      "{}\n",
      "True\n",
      "['I am an Oklahoma State University grad. I have taught elementary school 26 years. I  a proud mom to Cassidy and Logan.']\n",
      "{}\n",
      "True\n",
      "['#Election2016 Art Arts & Culture Business & Finance News Design & Architecture Food & Drink Humor Government & Politics Journalists Movies Music NBA Photography']\n",
      "{}\n",
      "True\n",
      "['']\n",
      "{}\n"
     ]
    }
   ],
   "source": [
    "for item in toys:\n",
    "    print(item['time_zone'] =={})\n",
    "    print(item['description'])\n",
    "    print(item['time_zone'])"
   ]
  },
  {
   "cell_type": "code",
   "execution_count": 32,
   "metadata": {
    "collapsed": false
   },
   "outputs": [
    {
     "name": "stdout",
     "output_type": "stream",
     "text": [
      "42\n"
     ]
    },
    {
     "data": {
      "text/plain": [
       "Index(['contributors_enabled', 'created_at', 'default_profile',\n",
       "       'default_profile_image', 'description', 'entities', 'favourites_count',\n",
       "       'follow_request_sent', 'followers_count', 'following', 'friends_count',\n",
       "       'geo_enabled', 'has_extended_profile', 'id', 'id_str',\n",
       "       'is_translation_enabled', 'is_translator', 'lang', 'listed_count',\n",
       "       'location', 'name', 'notifications', 'profile_background_color',\n",
       "       'profile_background_image_url', 'profile_background_image_url_https',\n",
       "       'profile_background_tile', 'profile_banner_url', 'profile_image_url',\n",
       "       'profile_image_url_https', 'profile_link_color',\n",
       "       'profile_sidebar_border_color', 'profile_sidebar_fill_color',\n",
       "       'profile_text_color', 'profile_use_background_image', 'protected',\n",
       "       'screen_name', 'status', 'statuses_count', 'time_zone', 'url',\n",
       "       'utc_offset', 'verified'],\n",
       "      dtype='object')"
      ]
     },
     "execution_count": 32,
     "metadata": {},
     "output_type": "execute_result"
    }
   ],
   "source": [
    "import pandas as pd\n",
    "item_df = pd.DataFrame(toys)\n",
    "print (len(item_df.columns))\n",
    "item_df.columns\n"
   ]
  },
  {
   "cell_type": "code",
   "execution_count": 36,
   "metadata": {
    "collapsed": false
   },
   "outputs": [],
   "source": [
    "import csv\n",
    "selected_col = \n",
    "toy_df = item_df[selected_col]\n",
    "toy_df.to_csv(\"toy.csv\")"
   ]
  },
  {
   "cell_type": "markdown",
   "metadata": {},
   "source": []
  },
  {
   "cell_type": "code",
   "execution_count": null,
   "metadata": {
    "collapsed": false
   },
   "outputs": [],
   "source": [
    "import json\n",
    "import pandas as pd\n",
    "# real data\n",
    "id_str = []\n",
    "followers_count = []\n",
    "screen_name = []\n",
    "mistakes = []\n",
    "protected = []\n",
    "idx = {}\n",
    "for i in range(1,7):\n",
    "    path = \"../data/followers_info/jsons/trump0\"+str(i)+\".json\"\n",
    "    records = [json.loads(line) for line in open(path)]\n",
    "    j = 0\n",
    "    for item in records:\n",
    "        try:  #invalid rows\n",
    "            if not item['id_str'][0] in idx:                           # item['id_str'] is list\n",
    "                id_str.extend(item['id_str'])\n",
    "                followers_count.extend(item['followers_count'])\n",
    "                screen_name.extend( item['screen_name'])\n",
    "                protected.extend( item['protected'])\n",
    "                j +=1\n",
    "                idx[item['id_str'][0]]= 1\n",
    "                #print(j)\n",
    "        except:\n",
    "            mistakes.append((i,j))\n",
    "            j += 1\n",
    "            continue;\n",
    "    print (i)    \n",
    "    print(len(idx))\n",
    "    \n",
    "# write as csv file\n",
    "import csv \n",
    "data = {'id_str' : pd.Series(id_str),\n",
    "        'followers_count' : pd.Series(followers_count),\n",
    "        'screen_name' : pd.Series(screen_name),\n",
    "        'protected': pd.Series(protected)\n",
    "       }\n",
    "df =pd.DataFrame(data)\n",
    "df.to_csv('../data/followers_info/jsons/id_counts.csv')    "
   ]
  },
  {
   "cell_type": "code",
   "execution_count": 47,
   "metadata": {
    "collapsed": false
   },
   "outputs": [
    {
     "name": "stdout",
     "output_type": "stream",
     "text": [
      "   followers_count     id_str protected  screen_name\n",
      "0               20  106870859     False    Coekie001\n",
      "1               16  443226440     False  printpirate\n"
     ]
    }
   ],
   "source": [
    "x = df[:2]\n",
    "print(x)"
   ]
  },
  {
   "cell_type": "code",
   "execution_count": 8,
   "metadata": {
    "collapsed": false
   },
   "outputs": [
    {
     "name": "stdout",
     "output_type": "stream",
     "text": [
      "709874\n",
      "1\n",
      "709874 709874 709874\n",
      "850000\n",
      "2\n",
      "1559874 1559874 1559874\n",
      "850000\n",
      "3\n",
      "2409874 2409874 2409874\n",
      "850000\n",
      "4\n",
      "3259874 3259874 3259874\n",
      "995503\n",
      "5\n",
      "4205320 4205320 4205320\n",
      "933486\n",
      "6\n",
      "5138806 5138806 5138806\n"
     ]
    }
   ],
   "source": [
    "\n",
    "import json\n",
    "import pandas as pd\n",
    "# real data\n",
    "#id_str = []\n",
    "#followers_count = []\n",
    "screen_name = []\n",
    "mistakes = []\n",
    "#protected = []\n",
    "description = []\n",
    "idx = {}\n",
    "for i in range(1,7):\n",
    "    path = \"../data/followers_info/jsons/trump0\"+str(i)+\".json\"\n",
    "    records = [json.loads(line) for line in open(path)]\n",
    "    print(len(records))\n",
    "    j = 0\n",
    "    for item in records:\n",
    "        try:  #invalid rows\n",
    "            if not item['id_str'][0] in idx:\n",
    "                #id_str.extend(item['id_str'])\n",
    "                #followers_count.extend(item['followers_count'])\n",
    "                screen_name.extend( item['screen_name'])\n",
    "                #protected.extend( item['protected'])\n",
    "                description.extend(item['description'])\n",
    "                j +=1\n",
    "                idx[item['id_str'][0]]= 1\n",
    "                #print(j)\n",
    "        except:\n",
    "            mistakes.append((i,j))\n",
    "            j += 1\n",
    "            continue;\n",
    "    print (i)    \n",
    "    print(len(idx), len(screen_name), len(description))\n",
    "    \n",
    "# write as csv file\n",
    "import csv \n",
    "data = {#'id_str' : pd.Series(id_str),\n",
    "        #'followers_count' : pd.Series(followers_count),\n",
    "        'screen_name' : pd.Series(screen_name),\n",
    "        #'protected': pd.Series(protected),\n",
    "        'description' : pd.Series(description)\n",
    "       }\n",
    "df =pd.DataFrame(data)\n",
    "df.to_csv('../data/followers_info/jsons/sn_descriptions.csv') "
   ]
  },
  {
   "cell_type": "code",
   "execution_count": 40,
   "metadata": {
    "collapsed": false
   },
   "outputs": [
    {
     "data": {
      "text/plain": [
       "{'779557052280692736': 1}"
      ]
     },
     "execution_count": 40,
     "metadata": {},
     "output_type": "execute_result"
    }
   ],
   "source": [
    "len(screen_name)\n",
    "len(mistakes)\n",
    "len(screen_name)\n",
    "item\n",
    "try:  #invalid rows\n",
    "    if not item['id_str'][0] in idx:\n",
    "        #id_str.extend(item['id_str'])\n",
    "        #followers_count.extend(item['followers_count'])\n",
    "        screen_name.extend( item['screen_name'])\n",
    "        print(\"XXXX\")\n",
    "        #protected.extend( item['protected'])\n",
    "        description.extend(item['description'])\n",
    "        j +=1\n",
    "        print(\"XXXX\")\n",
    "        idx[item['id_str']]= 1\n",
    "        print(\"XXXX\")\n",
    "        print(j)\n",
    "except:\n",
    "    mistakes.append((i,j))\n",
    "    j += 1\n",
    "idx, item['id_str'], item['id_str'][0] in idx\n",
    "not item['id_str'][0] in idx\n",
    "screen_name.extend( item['screen_name'])\n",
    "description.extend(item['description'])\n",
    "idx[item['id_str'][0]]= 1\n",
    "idx"
   ]
  },
  {
   "cell_type": "code",
   "execution_count": 30,
   "metadata": {
    "collapsed": false,
    "scrolled": true
   },
   "outputs": [
    {
     "name": "stdout",
     "output_type": "stream",
     "text": [
      "5188806\n"
     ]
    },
    {
     "data": {
      "image/png": "[encoded data removed]",
      "text/plain": [
       "<matplotlib.figure.Figure at 0x7f3248496160>"
      ]
     },
     "metadata": {},
     "output_type": "display_data"
    }
   ],
   "source": [
    "import numpy as np\n",
    "import matplotlib.mlab as mlab\n",
    "import matplotlib.pyplot as plt\n",
    "import math\n",
    "\n",
    "log_count =[ math.log(int(x)+1) for x in followers_count]\n",
    "num_bins = 100\n",
    "print(len(log_count))\n",
    "n, bins, patches =plt.hist(log_count,num_bins, normed=1, facecolor ='green', alpha = 0.5 )\n",
    "mu = np.mean(log_count)\n",
    "sigma =  np.std(log_count)\n",
    "y = mlab.normpdf(bins, mu, sigma)\n",
    "plt.plot(bins, y, 'r--')\n",
    "\n",
    "plt.xlabel('Smarts')\n",
    "plt.ylabel('Probability')\n",
    "#plt.title(r'Histogram of IQ: $\\mu %s$, $\\sigma=%s$' (str(mu), str(sigma)))\n",
    "\n",
    "plt.subplots_adjust(left=0.15)\n",
    "plt.show()"
   ]
  },
  {
   "cell_type": "code",
   "execution_count": 31,
   "metadata": {
    "collapsed": false,
    "scrolled": true
   },
   "outputs": [
    {
     "name": "stdout",
     "output_type": "stream",
     "text": [
      "1385568216\n"
     ]
    }
   ],
   "source": [
    "import numpy as np\n",
    "import random\n",
    "np.random.seed(100)\n",
    "total = sum(followers_count)\n",
    "\n",
    "print(total)\n",
    "probs = [i/total for i in followers_count]\n",
    "\n",
    "sample1 = np.random.choice(len(id_str), 100000, replace=False, p= probs)\n",
    "sample2 = np.random.choice(len(id_str), 100000, replace=False)\n",
    "\n",
    "samp= pd.DataFrame( {'non-random' : pd.Series(sample1),\n",
    "                    'random': pd.Series(sample2)})\n",
    "samp.to_csv('../data/followers_info/jsons/sample100k2.csv')\n",
    "\n",
    "#NOTE: the random.seed is not working as we expected. the sample is not fixed."
   ]
  },
  {
   "cell_type": "code",
   "execution_count": 52,
   "metadata": {
    "collapsed": false
   },
   "outputs": [
    {
     "name": "stdout",
     "output_type": "stream",
     "text": [
      "2737920\n"
     ]
    }
   ],
   "source": [
    "len(sample1)\n",
    "sample1[:10]\n",
    "for i in sample1: \n",
    "    print (i)\n",
    "    break"
   ]
  },
  {
   "cell_type": "code",
   "execution_count": 32,
   "metadata": {
    "collapsed": false
   },
   "outputs": [
    {
     "data": {
      "text/plain": [
       "(66474722, 11099)"
      ]
     },
     "execution_count": 32,
     "metadata": {},
     "output_type": "execute_result"
    }
   ],
   "source": [
    "a = sample1[:100]; b = sample2[:100]\n",
    "aa = [followers_count[x] for x in a.tolist()]\n",
    "bb = [followers_count[x] for x in b.tolist()]\n",
    "sum(aa), sum(bb)\n",
    "\n"
   ]
  },
  {
   "cell_type": "code",
   "execution_count": 102,
   "metadata": {
    "collapsed": false
   },
   "outputs": [
    {
     "ename": "KeyboardInterrupt",
     "evalue": "",
     "output_type": "error",
     "traceback": [
      "\u001b[0;31m---------------------------------------------------------------------------\u001b[0m",
      "\u001b[0;31mKeyboardInterrupt\u001b[0m                         Traceback (most recent call last)",
      "\u001b[0;32m<ipython-input-102-213fd6e73e03>\u001b[0m in \u001b[0;36m<module>\u001b[0;34m()\u001b[0m\n\u001b[1;32m     11\u001b[0m \u001b[0;32mfor\u001b[0m \u001b[0mi\u001b[0m \u001b[0;32min\u001b[0m \u001b[0mrange\u001b[0m\u001b[0;34m(\u001b[0m\u001b[0;36m1\u001b[0m\u001b[0;34m,\u001b[0m\u001b[0;36m7\u001b[0m\u001b[0;34m)\u001b[0m\u001b[0;34m:\u001b[0m\u001b[0;34m\u001b[0m\u001b[0m\n\u001b[1;32m     12\u001b[0m     \u001b[0mpath\u001b[0m \u001b[0;34m=\u001b[0m \u001b[0;34m\"../data/followers_info/jsons/trump0\"\u001b[0m\u001b[0;34m+\u001b[0m\u001b[0mstr\u001b[0m\u001b[0;34m(\u001b[0m\u001b[0mi\u001b[0m\u001b[0;34m)\u001b[0m\u001b[0;34m+\u001b[0m\u001b[0;34m\".json\"\u001b[0m\u001b[0;34m\u001b[0m\u001b[0m\n\u001b[0;32m---> 13\u001b[0;31m     \u001b[0mrecords\u001b[0m \u001b[0;34m=\u001b[0m \u001b[0;34m[\u001b[0m\u001b[0mjson\u001b[0m\u001b[0;34m.\u001b[0m\u001b[0mloads\u001b[0m\u001b[0;34m(\u001b[0m\u001b[0mline\u001b[0m\u001b[0;34m)\u001b[0m \u001b[0;32mfor\u001b[0m \u001b[0mline\u001b[0m \u001b[0;32min\u001b[0m \u001b[0mopen\u001b[0m\u001b[0;34m(\u001b[0m\u001b[0mpath\u001b[0m\u001b[0;34m)\u001b[0m\u001b[0;34m]\u001b[0m\u001b[0;34m\u001b[0m\u001b[0m\n\u001b[0m\u001b[1;32m     14\u001b[0m     \u001b[0mdata1\u001b[0m \u001b[0;34m=\u001b[0m \u001b[0mjson2dataframe\u001b[0m\u001b[0;34m(\u001b[0m\u001b[0mrecords\u001b[0m\u001b[0;34m,\u001b[0m \u001b[0mcols\u001b[0m\u001b[0;34m)\u001b[0m\u001b[0;34m\u001b[0m\u001b[0m\n\u001b[1;32m     15\u001b[0m     \u001b[0mdata\u001b[0m \u001b[0;34m=\u001b[0m \u001b[0;34m[\u001b[0m\u001b[0mdata\u001b[0m\u001b[0;34m,\u001b[0m \u001b[0mdata1\u001b[0m\u001b[0;34m]\u001b[0m\u001b[0;34m\u001b[0m\u001b[0m\n",
      "\u001b[0;32m<ipython-input-102-213fd6e73e03>\u001b[0m in \u001b[0;36m<listcomp>\u001b[0;34m(.0)\u001b[0m\n\u001b[1;32m     11\u001b[0m \u001b[0;32mfor\u001b[0m \u001b[0mi\u001b[0m \u001b[0;32min\u001b[0m \u001b[0mrange\u001b[0m\u001b[0;34m(\u001b[0m\u001b[0;36m1\u001b[0m\u001b[0;34m,\u001b[0m\u001b[0;36m7\u001b[0m\u001b[0;34m)\u001b[0m\u001b[0;34m:\u001b[0m\u001b[0;34m\u001b[0m\u001b[0m\n\u001b[1;32m     12\u001b[0m     \u001b[0mpath\u001b[0m \u001b[0;34m=\u001b[0m \u001b[0;34m\"../data/followers_info/jsons/trump0\"\u001b[0m\u001b[0;34m+\u001b[0m\u001b[0mstr\u001b[0m\u001b[0;34m(\u001b[0m\u001b[0mi\u001b[0m\u001b[0;34m)\u001b[0m\u001b[0;34m+\u001b[0m\u001b[0;34m\".json\"\u001b[0m\u001b[0;34m\u001b[0m\u001b[0m\n\u001b[0;32m---> 13\u001b[0;31m     \u001b[0mrecords\u001b[0m \u001b[0;34m=\u001b[0m \u001b[0;34m[\u001b[0m\u001b[0mjson\u001b[0m\u001b[0;34m.\u001b[0m\u001b[0mloads\u001b[0m\u001b[0;34m(\u001b[0m\u001b[0mline\u001b[0m\u001b[0;34m)\u001b[0m \u001b[0;32mfor\u001b[0m \u001b[0mline\u001b[0m \u001b[0;32min\u001b[0m \u001b[0mopen\u001b[0m\u001b[0;34m(\u001b[0m\u001b[0mpath\u001b[0m\u001b[0;34m)\u001b[0m\u001b[0;34m]\u001b[0m\u001b[0;34m\u001b[0m\u001b[0m\n\u001b[0m\u001b[1;32m     14\u001b[0m     \u001b[0mdata1\u001b[0m \u001b[0;34m=\u001b[0m \u001b[0mjson2dataframe\u001b[0m\u001b[0;34m(\u001b[0m\u001b[0mrecords\u001b[0m\u001b[0;34m,\u001b[0m \u001b[0mcols\u001b[0m\u001b[0;34m)\u001b[0m\u001b[0;34m\u001b[0m\u001b[0m\n\u001b[1;32m     15\u001b[0m     \u001b[0mdata\u001b[0m \u001b[0;34m=\u001b[0m \u001b[0;34m[\u001b[0m\u001b[0mdata\u001b[0m\u001b[0;34m,\u001b[0m \u001b[0mdata1\u001b[0m\u001b[0;34m]\u001b[0m\u001b[0;34m\u001b[0m\u001b[0m\n",
      "\u001b[0;32m/u/s/o/songwang/anaconda3/lib/python3.5/json/__init__.py\u001b[0m in \u001b[0;36mloads\u001b[0;34m(s, encoding, cls, object_hook, parse_float, parse_int, parse_constant, object_pairs_hook, **kw)\u001b[0m\n\u001b[1;32m    317\u001b[0m             \u001b[0mparse_int\u001b[0m \u001b[0;32mis\u001b[0m \u001b[0;32mNone\u001b[0m \u001b[0;32mand\u001b[0m \u001b[0mparse_float\u001b[0m \u001b[0;32mis\u001b[0m \u001b[0;32mNone\u001b[0m \u001b[0;32mand\u001b[0m\u001b[0;34m\u001b[0m\u001b[0m\n\u001b[1;32m    318\u001b[0m             parse_constant is None and object_pairs_hook is None and not kw):\n\u001b[0;32m--> 319\u001b[0;31m         \u001b[0;32mreturn\u001b[0m \u001b[0m_default_decoder\u001b[0m\u001b[0;34m.\u001b[0m\u001b[0mdecode\u001b[0m\u001b[0;34m(\u001b[0m\u001b[0ms\u001b[0m\u001b[0;34m)\u001b[0m\u001b[0;34m\u001b[0m\u001b[0m\n\u001b[0m\u001b[1;32m    320\u001b[0m     \u001b[0;32mif\u001b[0m \u001b[0mcls\u001b[0m \u001b[0;32mis\u001b[0m \u001b[0;32mNone\u001b[0m\u001b[0;34m:\u001b[0m\u001b[0;34m\u001b[0m\u001b[0m\n\u001b[1;32m    321\u001b[0m         \u001b[0mcls\u001b[0m \u001b[0;34m=\u001b[0m \u001b[0mJSONDecoder\u001b[0m\u001b[0;34m\u001b[0m\u001b[0m\n",
      "\u001b[0;32m/u/s/o/songwang/anaconda3/lib/python3.5/json/decoder.py\u001b[0m in \u001b[0;36mdecode\u001b[0;34m(self, s, _w)\u001b[0m\n\u001b[1;32m    337\u001b[0m \u001b[0;34m\u001b[0m\u001b[0m\n\u001b[1;32m    338\u001b[0m         \"\"\"\n\u001b[0;32m--> 339\u001b[0;31m         \u001b[0mobj\u001b[0m\u001b[0;34m,\u001b[0m \u001b[0mend\u001b[0m \u001b[0;34m=\u001b[0m \u001b[0mself\u001b[0m\u001b[0;34m.\u001b[0m\u001b[0mraw_decode\u001b[0m\u001b[0;34m(\u001b[0m\u001b[0ms\u001b[0m\u001b[0;34m,\u001b[0m \u001b[0midx\u001b[0m\u001b[0;34m=\u001b[0m\u001b[0m_w\u001b[0m\u001b[0;34m(\u001b[0m\u001b[0ms\u001b[0m\u001b[0;34m,\u001b[0m \u001b[0;36m0\u001b[0m\u001b[0;34m)\u001b[0m\u001b[0;34m.\u001b[0m\u001b[0mend\u001b[0m\u001b[0;34m(\u001b[0m\u001b[0;34m)\u001b[0m\u001b[0;34m)\u001b[0m\u001b[0;34m\u001b[0m\u001b[0m\n\u001b[0m\u001b[1;32m    340\u001b[0m         \u001b[0mend\u001b[0m \u001b[0;34m=\u001b[0m \u001b[0m_w\u001b[0m\u001b[0;34m(\u001b[0m\u001b[0ms\u001b[0m\u001b[0;34m,\u001b[0m \u001b[0mend\u001b[0m\u001b[0;34m)\u001b[0m\u001b[0;34m.\u001b[0m\u001b[0mend\u001b[0m\u001b[0;34m(\u001b[0m\u001b[0;34m)\u001b[0m\u001b[0;34m\u001b[0m\u001b[0m\n\u001b[1;32m    341\u001b[0m         \u001b[0;32mif\u001b[0m \u001b[0mend\u001b[0m \u001b[0;34m!=\u001b[0m \u001b[0mlen\u001b[0m\u001b[0;34m(\u001b[0m\u001b[0ms\u001b[0m\u001b[0;34m)\u001b[0m\u001b[0;34m:\u001b[0m\u001b[0;34m\u001b[0m\u001b[0m\n",
      "\u001b[0;32m/u/s/o/songwang/anaconda3/lib/python3.5/json/decoder.py\u001b[0m in \u001b[0;36mraw_decode\u001b[0;34m(self, s, idx)\u001b[0m\n\u001b[1;32m    353\u001b[0m         \"\"\"\n\u001b[1;32m    354\u001b[0m         \u001b[0;32mtry\u001b[0m\u001b[0;34m:\u001b[0m\u001b[0;34m\u001b[0m\u001b[0m\n\u001b[0;32m--> 355\u001b[0;31m             \u001b[0mobj\u001b[0m\u001b[0;34m,\u001b[0m \u001b[0mend\u001b[0m \u001b[0;34m=\u001b[0m \u001b[0mself\u001b[0m\u001b[0;34m.\u001b[0m\u001b[0mscan_once\u001b[0m\u001b[0;34m(\u001b[0m\u001b[0ms\u001b[0m\u001b[0;34m,\u001b[0m \u001b[0midx\u001b[0m\u001b[0;34m)\u001b[0m\u001b[0;34m\u001b[0m\u001b[0m\n\u001b[0m\u001b[1;32m    356\u001b[0m         \u001b[0;32mexcept\u001b[0m \u001b[0mStopIteration\u001b[0m \u001b[0;32mas\u001b[0m \u001b[0merr\u001b[0m\u001b[0;34m:\u001b[0m\u001b[0;34m\u001b[0m\u001b[0m\n\u001b[1;32m    357\u001b[0m             \u001b[0;32mraise\u001b[0m \u001b[0mJSONDecodeError\u001b[0m\u001b[0;34m(\u001b[0m\u001b[0;34m\"Expecting value\"\u001b[0m\u001b[0;34m,\u001b[0m \u001b[0ms\u001b[0m\u001b[0;34m,\u001b[0m \u001b[0merr\u001b[0m\u001b[0;34m.\u001b[0m\u001b[0mvalue\u001b[0m\u001b[0;34m)\u001b[0m \u001b[0;32mfrom\u001b[0m \u001b[0;32mNone\u001b[0m\u001b[0;34m\u001b[0m\u001b[0m\n",
      "\u001b[0;31mKeyboardInterrupt\u001b[0m: "
     ]
    }
   ],
   "source": [
    "import json\n",
    "import pandas as pd\n",
    "# real data\n",
    "id_str = []\n",
    "followers_count = []\n",
    "screen_name = []\n",
    "mistakes = []\n",
    "protected = []\n",
    "idx = {}\n",
    "data = pd.DataFrame()\n",
    "for i in range(1,7):\n",
    "    path = \"../data/followers_info/jsons/trump0\"+str(i)+\".json\"\n",
    "    records = [json.loads(line) for line in open(path)]\n",
    "    data1 = json2dataframe(records, cols)\n",
    "    data = [data, data1]\n",
    "    print (i)    \n",
    "    print(len(idx))\n",
    "    "
   ]
  }
 ],
 "metadata": {
  "anaconda-cloud": {},
  "kernelspec": {
   "display_name": "Python [default]",
   "language": "python",
   "name": "python3"
  },
  "language_info": {
   "codemirror_mode": {
    "name": "ipython",
    "version": 3
   },
   "file_extension": ".py",
   "mimetype": "text/x-python",
   "name": "python",
   "nbconvert_exporter": "python",
   "pygments_lexer": "ipython3",
   "version": "3.5.2"
  }
 },
 "nbformat": 4,
 "nbformat_minor": 1
}
